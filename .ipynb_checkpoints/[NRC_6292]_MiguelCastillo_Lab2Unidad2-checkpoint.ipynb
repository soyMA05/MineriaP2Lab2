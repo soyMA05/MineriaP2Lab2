{
 "cells": [
  {
   "cell_type": "markdown",
   "id": "55425ac3-8024-4001-98dd-2cbc856797b6",
   "metadata": {},
   "source": [
    "# Laboratorio 2: Limpieza de datos"
   ]
  },
  {
   "cell_type": "code",
   "execution_count": 1,
   "id": "92f930c3-a37f-413d-b10b-66eec2f24f43",
   "metadata": {},
   "outputs": [],
   "source": [
    "\"\"\"Importar Librerias \"\"\"\n",
    "\n",
    "\"\"\"crear dataframes\"\"\"\n",
    "import pandas as pd\n",
    "\n",
    "\"\"\"crear vectores, matrices y calculos estadisticos\"\"\"\n",
    "import numpy as np\n",
    "\n",
    "\"\"\" modulo para aplicar metodos a los datos de tipo texto\"\"\"\n",
    "import string\n",
    "\n",
    "\"\"\" crear tecnicas de imputacion de datos con estrategias\"\"\"\n",
    "from sklearn.impute import SimpleImputer\n",
    "\n",
    "\"\"\" imputar valores faltantes utilizando la tecnica de k-vecinos cercanos\"\"\"\n",
    "from sklearn.impute import KNNImputer\n"
   ]
  },
  {
   "cell_type": "markdown",
   "id": "36793ab3-ec27-4863-b443-a4afe676f34f",
   "metadata": {},
   "source": [
    "## 1. Encontrar y describir problemas del dataset"
   ]
  },
  {
   "cell_type": "code",
   "execution_count": 2,
   "id": "15eb4ab7-995f-4f6d-a930-0e788cd4f44c",
   "metadata": {},
   "outputs": [
    {
     "data": {
      "text/html": [
       "<div>\n",
       "<style scoped>\n",
       "    .dataframe tbody tr th:only-of-type {\n",
       "        vertical-align: middle;\n",
       "    }\n",
       "\n",
       "    .dataframe tbody tr th {\n",
       "        vertical-align: top;\n",
       "    }\n",
       "\n",
       "    .dataframe thead th {\n",
       "        text-align: right;\n",
       "    }\n",
       "</style>\n",
       "<table border=\"1\" class=\"dataframe\">\n",
       "  <thead>\n",
       "    <tr style=\"text-align: right;\">\n",
       "      <th></th>\n",
       "      <th>CrimeId</th>\n",
       "      <th>OriginalCrimeTypeName</th>\n",
       "      <th>OffenseDate</th>\n",
       "      <th>CallTime</th>\n",
       "      <th>CallDateTime</th>\n",
       "      <th>Disposition</th>\n",
       "      <th>Address</th>\n",
       "      <th>City</th>\n",
       "      <th>State</th>\n",
       "      <th>AgencyId</th>\n",
       "      <th>Range</th>\n",
       "      <th>AddressType</th>\n",
       "    </tr>\n",
       "  </thead>\n",
       "  <tbody>\n",
       "    <tr>\n",
       "      <th>0</th>\n",
       "      <td>160903280</td>\n",
       "      <td>Assault / Battery</td>\n",
       "      <td>2016-03-30T00:00:00</td>\n",
       "      <td>18:42</td>\n",
       "      <td>2016-03-30T18:42:00</td>\n",
       "      <td>REP</td>\n",
       "      <td>100 Block Of Chilton Av</td>\n",
       "      <td>San Francisco</td>\n",
       "      <td>CA</td>\n",
       "      <td>1</td>\n",
       "      <td>NaN</td>\n",
       "      <td>Premise Address</td>\n",
       "    </tr>\n",
       "    <tr>\n",
       "      <th>1</th>\n",
       "      <td>160912272</td>\n",
       "      <td>Homeless Complaint</td>\n",
       "      <td>2016-03-31T00:00:00</td>\n",
       "      <td>15:31</td>\n",
       "      <td>2016-03-31T15:31:00</td>\n",
       "      <td>GOA</td>\n",
       "      <td>2300 Block Of Market St</td>\n",
       "      <td>San Francisco</td>\n",
       "      <td>CA</td>\n",
       "      <td>1</td>\n",
       "      <td>NaN</td>\n",
       "      <td>Premise Address</td>\n",
       "    </tr>\n",
       "    <tr>\n",
       "      <th>2</th>\n",
       "      <td>160912590</td>\n",
       "      <td>Susp Info</td>\n",
       "      <td>2016-03-31T00:00:00</td>\n",
       "      <td>16:49</td>\n",
       "      <td>2016-03-31T16:49:00</td>\n",
       "      <td>GOA</td>\n",
       "      <td>2300 Block Of Market St</td>\n",
       "      <td>San Francisco</td>\n",
       "      <td>CA</td>\n",
       "      <td>1</td>\n",
       "      <td>NaN</td>\n",
       "      <td>Premise Address</td>\n",
       "    </tr>\n",
       "    <tr>\n",
       "      <th>3</th>\n",
       "      <td>160912801</td>\n",
       "      <td>Report</td>\n",
       "      <td>2016-03-31T00:00:00</td>\n",
       "      <td>17:38</td>\n",
       "      <td>2016-03-31T17:38:00</td>\n",
       "      <td>GOA</td>\n",
       "      <td>500 Block Of 7th St</td>\n",
       "      <td>San Francisco</td>\n",
       "      <td>CA</td>\n",
       "      <td>1</td>\n",
       "      <td>NaN</td>\n",
       "      <td>Premise Address</td>\n",
       "    </tr>\n",
       "    <tr>\n",
       "      <th>4</th>\n",
       "      <td>160912811</td>\n",
       "      <td>594</td>\n",
       "      <td>2016-03-31T00:00:00</td>\n",
       "      <td>17:42</td>\n",
       "      <td>2016-03-31T17:42:00</td>\n",
       "      <td>REP</td>\n",
       "      <td>Beale St/bryant St</td>\n",
       "      <td>San Francisco</td>\n",
       "      <td>CA</td>\n",
       "      <td>1</td>\n",
       "      <td>NaN</td>\n",
       "      <td>Intersection</td>\n",
       "    </tr>\n",
       "    <tr>\n",
       "      <th>5</th>\n",
       "      <td>160913003</td>\n",
       "      <td>Ref'd</td>\n",
       "      <td>2016-03-31T00:00:00</td>\n",
       "      <td>18:29</td>\n",
       "      <td>2016-03-31T18:29:00</td>\n",
       "      <td>GOA</td>\n",
       "      <td>16th St/pond St</td>\n",
       "      <td>San Francisco</td>\n",
       "      <td>CA</td>\n",
       "      <td>1</td>\n",
       "      <td>NaN</td>\n",
       "      <td>Intersection</td>\n",
       "    </tr>\n",
       "    <tr>\n",
       "      <th>6</th>\n",
       "      <td>160913050</td>\n",
       "      <td>Homeless Complaint</td>\n",
       "      <td>2016-03-31T00:00:00</td>\n",
       "      <td>18:43</td>\n",
       "      <td>2016-03-31T18:43:00</td>\n",
       "      <td>ADV</td>\n",
       "      <td>Berwick Pl/harrison St</td>\n",
       "      <td>San Francisco</td>\n",
       "      <td>CA</td>\n",
       "      <td>1</td>\n",
       "      <td>NaN</td>\n",
       "      <td>Intersection</td>\n",
       "    </tr>\n",
       "    <tr>\n",
       "      <th>7</th>\n",
       "      <td>160913056</td>\n",
       "      <td>Homeless Complaint</td>\n",
       "      <td>2016-03-31T00:00:00</td>\n",
       "      <td>18:47</td>\n",
       "      <td>2016-03-31T18:47:00</td>\n",
       "      <td>HAN</td>\n",
       "      <td>Florida St/mariposa St</td>\n",
       "      <td>San Francisco</td>\n",
       "      <td>CA</td>\n",
       "      <td>1</td>\n",
       "      <td>NaN</td>\n",
       "      <td>Intersection</td>\n",
       "    </tr>\n",
       "    <tr>\n",
       "      <th>8</th>\n",
       "      <td>160913078</td>\n",
       "      <td>Agg Assault / Adw Dv</td>\n",
       "      <td>2016-03-31T00:00:00</td>\n",
       "      <td>18:52</td>\n",
       "      <td>2016-03-31T18:52:00</td>\n",
       "      <td>ND</td>\n",
       "      <td>100 Block Of Genebern Wy</td>\n",
       "      <td>San Francisco</td>\n",
       "      <td>CA</td>\n",
       "      <td>1</td>\n",
       "      <td>NaN</td>\n",
       "      <td>Premise Address</td>\n",
       "    </tr>\n",
       "    <tr>\n",
       "      <th>9</th>\n",
       "      <td>160913103</td>\n",
       "      <td>Encampment</td>\n",
       "      <td>2016-03-31T00:00:00</td>\n",
       "      <td>18:57</td>\n",
       "      <td>2016-03-31T18:57:00</td>\n",
       "      <td>ADV</td>\n",
       "      <td>2700 Block Of Folsom St</td>\n",
       "      <td>San Francisco</td>\n",
       "      <td>CA</td>\n",
       "      <td>1</td>\n",
       "      <td>NaN</td>\n",
       "      <td>Premise Address</td>\n",
       "    </tr>\n",
       "  </tbody>\n",
       "</table>\n",
       "</div>"
      ],
      "text/plain": [
       "     CrimeId OriginalCrimeTypeName          OffenseDate CallTime  \\\n",
       "0  160903280     Assault / Battery  2016-03-30T00:00:00    18:42   \n",
       "1  160912272    Homeless Complaint  2016-03-31T00:00:00    15:31   \n",
       "2  160912590             Susp Info  2016-03-31T00:00:00    16:49   \n",
       "3  160912801                Report  2016-03-31T00:00:00    17:38   \n",
       "4  160912811                   594  2016-03-31T00:00:00    17:42   \n",
       "5  160913003                 Ref'd  2016-03-31T00:00:00    18:29   \n",
       "6  160913050    Homeless Complaint  2016-03-31T00:00:00    18:43   \n",
       "7  160913056    Homeless Complaint  2016-03-31T00:00:00    18:47   \n",
       "8  160913078  Agg Assault / Adw Dv  2016-03-31T00:00:00    18:52   \n",
       "9  160913103            Encampment  2016-03-31T00:00:00    18:57   \n",
       "\n",
       "          CallDateTime Disposition                   Address           City  \\\n",
       "0  2016-03-30T18:42:00         REP   100 Block Of Chilton Av  San Francisco   \n",
       "1  2016-03-31T15:31:00         GOA   2300 Block Of Market St  San Francisco   \n",
       "2  2016-03-31T16:49:00         GOA   2300 Block Of Market St  San Francisco   \n",
       "3  2016-03-31T17:38:00         GOA       500 Block Of 7th St  San Francisco   \n",
       "4  2016-03-31T17:42:00         REP        Beale St/bryant St  San Francisco   \n",
       "5  2016-03-31T18:29:00         GOA           16th St/pond St  San Francisco   \n",
       "6  2016-03-31T18:43:00         ADV    Berwick Pl/harrison St  San Francisco   \n",
       "7  2016-03-31T18:47:00         HAN    Florida St/mariposa St  San Francisco   \n",
       "8  2016-03-31T18:52:00          ND  100 Block Of Genebern Wy  San Francisco   \n",
       "9  2016-03-31T18:57:00         ADV   2700 Block Of Folsom St  San Francisco   \n",
       "\n",
       "  State AgencyId  Range      AddressType  \n",
       "0    CA        1    NaN  Premise Address  \n",
       "1    CA        1    NaN  Premise Address  \n",
       "2    CA        1    NaN  Premise Address  \n",
       "3    CA        1    NaN  Premise Address  \n",
       "4    CA        1    NaN     Intersection  \n",
       "5    CA        1    NaN     Intersection  \n",
       "6    CA        1    NaN     Intersection  \n",
       "7    CA        1    NaN     Intersection  \n",
       "8    CA        1    NaN  Premise Address  \n",
       "9    CA        1    NaN  Premise Address  "
      ]
     },
     "execution_count": 2,
     "metadata": {},
     "output_type": "execute_result"
    }
   ],
   "source": [
    "\"\"\" importar el dataset \"\"\"\n",
    "df = pd.read_csv('data_act_01.csv',sep=';')\n",
    "\n",
    "\"\"\" visualizar diez primeros registros \"\"\"\n",
    "df.head(10)"
   ]
  },
  {
   "cell_type": "code",
   "execution_count": 3,
   "id": "7f69887b-4763-4f9a-8d49-b0d4cf245c1b",
   "metadata": {},
   "outputs": [
    {
     "name": "stdout",
     "output_type": "stream",
     "text": [
      "<class 'pandas.core.frame.DataFrame'>\n",
      "RangeIndex: 10051 entries, 0 to 10050\n",
      "Data columns (total 12 columns):\n",
      " #   Column                 Non-Null Count  Dtype  \n",
      "---  ------                 --------------  -----  \n",
      " 0   CrimeId                10051 non-null  int64  \n",
      " 1   OriginalCrimeTypeName  10051 non-null  object \n",
      " 2   OffenseDate            10051 non-null  object \n",
      " 3   CallTime               10051 non-null  object \n",
      " 4   CallDateTime           10051 non-null  object \n",
      " 5   Disposition            10051 non-null  object \n",
      " 6   Address                10051 non-null  object \n",
      " 7   City                   9730 non-null   object \n",
      " 8   State                  10048 non-null  object \n",
      " 9   AgencyId               10051 non-null  object \n",
      " 10  Range                  0 non-null      float64\n",
      " 11  AddressType            10051 non-null  object \n",
      "dtypes: float64(1), int64(1), object(10)\n",
      "memory usage: 942.4+ KB\n"
     ]
    }
   ],
   "source": [
    "\"\"\" obtener informacion de variables del dataset \"\"\"\n",
    "df.info()"
   ]
  },
  {
   "cell_type": "code",
   "execution_count": 4,
   "id": "8b231ad8-fc16-4f10-adb1-38537ecc1056",
   "metadata": {},
   "outputs": [
    {
     "data": {
      "text/plain": [
       "0"
      ]
     },
     "execution_count": 4,
     "metadata": {},
     "output_type": "execute_result"
    }
   ],
   "source": [
    "\"\"\" comprobar existencia de registros duplicados \"\"\"\n",
    "df.duplicated().sum()"
   ]
  },
  {
   "cell_type": "markdown",
   "id": "43be246a-6422-48b7-9f9b-b4f91d6109a3",
   "metadata": {},
   "source": [
    "**Interpretación del dataset**: <br>\n",
    "El dataset cuenta con 12 caracteristicas y 10051 muestras recopiladas. A simple vista la mayoría de las columnas poseen el tipo de dato objeto. Sin embargo, la característica 'CrimeId' y 'Range' son de tipo de dato numerico. Algunas columnas poseen datos faltantes, especialmente la caracteristica 'Range' que no contiene ni un valor en sus filas. Por otro lado, se utiliza el método *duplicated()* para verificar si existen registros duplicados en el dataset."
   ]
  },
  {
   "cell_type": "markdown",
   "id": "d4c8cc73-7456-4775-ac72-9cf12d3d9032",
   "metadata": {},
   "source": [
    "**Definir variables**"
   ]
  },
  {
   "cell_type": "code",
   "execution_count": 5,
   "id": "694328f5-feed-48d4-b61c-85856877576c",
   "metadata": {},
   "outputs": [],
   "source": [
    "\"\"\" listar caracteristicas del dataset\"\"\"\n",
    "caracteristicas = ['CrimeId','OriginalCrimeTypeName','OffenseDate','CallTime','CallDateTime','Disposition','Address','City','State','AgencyId','Range','AddressType']"
   ]
  },
  {
   "cell_type": "markdown",
   "id": "0cf64f49-5d29-4924-a08d-b47badb64926",
   "metadata": {},
   "source": [
    "### 1.1 Encontrar datos faltantes"
   ]
  },
  {
   "cell_type": "code",
   "execution_count": 6,
   "id": "9809ed00-44b2-43e0-85aa-c4877f202202",
   "metadata": {},
   "outputs": [
    {
     "data": {
      "text/plain": [
       "CrimeId                      0\n",
       "OriginalCrimeTypeName        0\n",
       "OffenseDate                  0\n",
       "CallTime                     0\n",
       "CallDateTime                 0\n",
       "Disposition                  0\n",
       "Address                      0\n",
       "City                       321\n",
       "State                        3\n",
       "AgencyId                     0\n",
       "Range                    10051\n",
       "AddressType                  0\n",
       "dtype: int64"
      ]
     },
     "execution_count": 6,
     "metadata": {},
     "output_type": "execute_result"
    }
   ],
   "source": [
    "\"\"\" comprobar cantidad de datos faltantes en el dataset \"\"\"\n",
    "df.isnull().sum()"
   ]
  },
  {
   "cell_type": "markdown",
   "id": "daecf421-7e8e-415f-87c5-da259fb0b77a",
   "metadata": {},
   "source": [
    "El resultado arrojado muestra las columnas que poseen valores NaN. Existen 3 características que poseen esos datos desconocidos, las cuales son City, State y Range. El resto de columnas se encuentra con datos completos. Se debe corregir esos valores desconocidos y en el caso de la característica Range tiene una particularidad la cual es que todos sus filas son datos faltantes. En este ultimo caso, la opción es eliminar la columna ya que no contiene ningún dato que permita hacer una referencia para luego reemplazar."
   ]
  },
  {
   "cell_type": "code",
   "execution_count": 7,
   "id": "e372991f-c099-4c78-a417-93f4a322be1e",
   "metadata": {},
   "outputs": [
    {
     "data": {
      "text/plain": [
       "CrimeId                  0.0000\n",
       "OriginalCrimeTypeName    0.0000\n",
       "OffenseDate              0.0000\n",
       "CallTime                 0.0000\n",
       "CallDateTime             0.0000\n",
       "Disposition              0.0000\n",
       "Address                  0.0000\n",
       "City                     0.0319\n",
       "State                    0.0003\n",
       "AgencyId                 0.0000\n",
       "Range                    1.0000\n",
       "AddressType              0.0000\n",
       "dtype: float64"
      ]
     },
     "execution_count": 7,
     "metadata": {},
     "output_type": "execute_result"
    }
   ],
   "source": [
    "\"\"\" encontrar el promedio de los valores faltantes \"\"\"\n",
    "np.round(df.isnull().mean(),4)"
   ]
  },
  {
   "cell_type": "markdown",
   "id": "c08c7565-9331-4686-ba64-aacece4c7720",
   "metadata": {},
   "source": [
    "### 1.2 Encontrar valores unicos"
   ]
  },
  {
   "cell_type": "code",
   "execution_count": 8,
   "id": "cde53e6b-35ec-494b-a883-4d106a418cc8",
   "metadata": {},
   "outputs": [],
   "source": [
    "\"\"\" encontrar valores unicos de las caracteristicas \"\"\"\n",
    "def valores_unicos_etiquetas(n_caracteristicas):\n",
    "    \"\"\" recorrer lista de características \"\"\"\n",
    "    for i in n_caracteristicas:\n",
    "        \"\"\"mostrar caracteristica y sus valores \"\"\"\n",
    "        display(i, df[i].unique(), '----')"
   ]
  },
  {
   "cell_type": "code",
   "execution_count": 9,
   "id": "5868e859-78e7-44f3-907a-9d0efb64f35c",
   "metadata": {},
   "outputs": [
    {
     "data": {
      "text/plain": [
       "'CrimeId'"
      ]
     },
     "metadata": {},
     "output_type": "display_data"
    },
    {
     "data": {
      "text/plain": [
       "array([160903280, 160912272, 160912590, ..., 160964227, 160964229,\n",
       "       160964249], dtype=int64)"
      ]
     },
     "metadata": {},
     "output_type": "display_data"
    },
    {
     "data": {
      "text/plain": [
       "'----'"
      ]
     },
     "metadata": {},
     "output_type": "display_data"
    },
    {
     "data": {
      "text/plain": [
       "'OriginalCrimeTypeName'"
      ]
     },
     "metadata": {},
     "output_type": "display_data"
    },
    {
     "data": {
      "text/plain": [
       "array(['Assault / Battery', 'Homeless Complaint', 'Susp Info', 'Report',\n",
       "       '594', \"Ref'd\", 'Agg Assault / Adw Dv', 'Encampment', 'Burglary',\n",
       "       'Suspicious Person', 'Ip', 'Arrest Made', 'Tent',\n",
       "       'Intoxicated Person', 'Guitar', 'H&r Veh Accident', 'Music',\n",
       "       'Person Dumping', 'Vandalism', 'Petty Theft', '415',\n",
       "       'Noise Nuisance', 'Fraud', 'Rep', 'Meet W/citizen',\n",
       "       'Prisoner Transport', 'Poss', 'Trespasser', 'Stolen Vehicle',\n",
       "       'Fight No Weapon', 'Check For Ped', 'Juvenile Disturbance',\n",
       "       'Party', 'Lltd', 'Robbery', '601', '500e', '913', 'Traffic Stop',\n",
       "       '909', 'Person W/gun', 'Suspicious Vehicle', 'Fight No Weapon Dv',\n",
       "       'Audible Alarm', 'Parking', 'Pay', 'Silent Holdup Alarm',\n",
       "       'Passing Call', 'Sleeper', 'Family', 'Thumping', 'Loud Music',\n",
       "       '916', 'Att', 'Threats / Harassment', 'Boombox',\n",
       "       'Traf Violation Tow', 'Dw', 'Bar Check', 'Suicide Attempt', 'Susp',\n",
       "       'Crosswalk', 'Casing/917', 'Wireless-Drop', 'Uc Hastings/405',\n",
       "       'Bomb Threat', 'Mentally Disturbed', 'Silent Alarm',\n",
       "       'Traf Violation Cite', 'Person Breaking In', 'Complaint Unkn',\n",
       "       '811', 'Casing', 'Prowler', 'Shots Fired', 'Shooting', '915',\n",
       "       'Citizen Arrest', '919', '417', 'Person Screaming',\n",
       "       'Well Being Check', '917', '917/811', 'Jo/bolo',\n",
       "       'Wanted Vehicle / Sub', 'Ug', 'Poss Ip', 'Hold-Up', '531', 'Fare',\n",
       "       'Construction', 'Drugs', 'Campers', 'Poss/601',\n",
       "       'Assault / Battery Dv', 'X', 'Return', 'Rtl', 'Verbal', '518',\n",
       "       'Meet W/officer', '488', 'Awol', 'Strongarm Robbery', 'Aggressive',\n",
       "       'Male', \"Veh's\", 'Rz', 'Sw', 'Encampent', 'Loitering',\n",
       "       'Muni Inspection', 'Auto Boost / Strip', 'Jo', 'Dw/rz', '22500e',\n",
       "       'Sleepers', 'Fire', 'Mal', 'Trc 7.2.46', 'Reckless', 'Camper',\n",
       "       '22500f', 'City Veh', 'Openline', 'Indecent Exposure',\n",
       "       'Injury Veh Accident', 'Rept', 'Cw', '851', 'Prem Check',\n",
       "       'Person W/knife', 'Ringing Doorbell', 'Veh Accident',\n",
       "       'Sleeper 601', 'I/p', 'Video', 'Unoccupied', 'R/o Violation',\n",
       "       'Psych Eval / Hold', 'Missing Adult', 'Vehicle Alarm',\n",
       "       'Person Down', '418', 'Found Drugs', 'Citizen Standby', 'Yelling',\n",
       "       '7.2.41', 'Lltn', '7.2.45', 'Nabor', 'X 594', 'Glass Bottles',\n",
       "       'Missing Juvenile', 'Sexual Assault Juve', '852', 'Escalating',\n",
       "       'Demo / Protest', 'Death / Coroner', 'Jjo', 'Vc21113a',\n",
       "       'Aggressive 601', 'Sexual Assault Adult', '601 Ug',\n",
       "       'Recover Missing Veh', 'Npat', 'Aggr Soliciting', '7.2.46',\n",
       "       'Dog Barking', '800', 'Grand Theft', 'Rz/dw',\n",
       "       'H&r Injury Accident', 'Pepperspray', '22500e/22500b', 'Vendors',\n",
       "       'Agg Assault / Adw', 'Crack', '905/muni', 'Opp', '311',\n",
       "       'Stolen Property', 'Poss Caser', '22500h', '22514',\n",
       "       'Senile Person', '311 X', 'Selling Foods', 'Muni', 'Elevator',\n",
       "       'Veh', 'Ll/td', '221', 'Static', 'Road Rage', 'W/a Hammer',\n",
       "       '221 Poss', 'At Risk', 'Drop', 'Juve Beyond Control', '22500e/.25',\n",
       "       'Squattters', 'Illegal Vendor', '7.2.25', 'Parking Space',\n",
       "       'Susp Poss', '22500a', '913/child', 'Dancer', '500f', '500h',\n",
       "       '7.2.28', 'Drinking', '240/spit', 'Poss 5150', 'Ped',\n",
       "       'Pepper Spray', '222', '487', '368ca Poss', '470', '22500i',\n",
       "       'Panic Alarm', 'Drugs Needles', '911 Hu', 'Purse Snatch',\n",
       "       '212 Poss', '7.2.26', 'Custody', '7.2.27', '22500eal',\n",
       "       'Resisting Arrest', 'Mc', 'Dirtbikes', 'Gamblers', 'Drugs/dealing',\n",
       "       'Drunk Driver', 'Ret', 'Spitter', 'Prostitute/solicite',\n",
       "       'Aided Case', '22500f/cw', 'Suspect', '518/muni', '22500b',\n",
       "       'Barking', '7.2.32', 'Bat', 'Dirtbikes/586', '213', 'Encampments',\n",
       "       '7.2.38', '7.2.40', 'Ll/ll', 'Adv', 'Chp', '911-Drop', 'Hammer',\n",
       "       'Open Line', 'Physical', 'Dog', '915 Sleeper', '910',\n",
       "       'Pay Dispute', '245', 'Keys', 'Nabors', '650', 'Opportunist',\n",
       "       'Live Band', 'Recorder', 'Female', 'Poss 152', 'Poss Casing',\n",
       "       '915 Encampment', 'Tx To Chp', 'Party Yelling', '852 Poss',\n",
       "       \"Juv's\", '586/poss 588', '5150', 'At The Atm', 'Male/poss Hazard',\n",
       "       'Heated', 'Adv To 0123', 'Busn', 'Dw Tow', 'Band', 'Kidnapping',\n",
       "       'Poss Attempt', 'Driveway', 'Threats Dv', '415 Music',\n",
       "       'Att/240 Jo', '5150 Poss', 'Stick', 'Spike', '647b Poss', 'Alarm',\n",
       "       'Sideshow', '22502a', 'Taxi Zone', 'Graffiti Vandalism', '601 Rtl',\n",
       "       'Living', 'Roof', 'Dp', '22500l', '801 Poss', 'J/o', 'Gz', 'Caser',\n",
       "       'Wz', '519', 'Poss Escalating', 'Sign', 'Ambulance', 'Drops//busn',\n",
       "       'Suspects', '811 Male', 'Camp', 'Attemp', 'Drinkers', 'Uwg', 'Lp',\n",
       "       'H&r', 'Poss 207', 'Tree Bark', 'Poss 800', 'Vendor', 'Casing/852',\n",
       "       'Ro Viol', '519 Poss', '9915', 'Pups', '518hr', 'Reckless Mcs',\n",
       "       '586', '800attempt', 'Follow Up', 'Chop Shop', 'Paydispute',\n",
       "       'Illegal Gambling', 'Rep Identity Theft', '225800e',\n",
       "       '852 Occupied', '594 Poss', 'Busn/voip', 'Roadrage', '252500e',\n",
       "       '420 Drugs', '912', 'Sudrugs', 'Fi**expedite**', 'Rtl/aggressive',\n",
       "       'Ro Violation', 'Tow Truck', '800 Poss', '*909*', '22500',\n",
       "       '152 Jo', '7.2.25/2250e', 'Agressive', 'Pay Dis', 'Rtl Cab',\n",
       "       'Drummer', '22500f/7.2.70', 'Person W/knife Dv', 'Hu', '800  Poss',\n",
       "       '152 Poss', 'Elderly X', 'Hold Up', 'Chp 1030 Veh', 'Sagressive',\n",
       "       'Bart', '240 Poss', 'Illegal Vendors', 'Loud Party', 'Stabbing',\n",
       "       'Roomate', 'Fireworks', 'Property', 'Iph', 'Bottles', 'Cane',\n",
       "       'Get Inside The Bldg', 'Music/909', 'Panic', '601rtl',\n",
       "       'Vandalism Dv', 'Neighbors', 'Open', 'Poss/910prem Check',\n",
       "       'Stattic', '594 Ip', '601uwg', '911', 'Poss 519', 'Making A Mess',\n",
       "       'Campers W/bikes', 'Pos Jumper', 'Doorway/917', 'Camping',\n",
       "       '**Tazer**', 'Loading Dock', 'Bl', 'Naked', 'Attempt',\n",
       "       'Explosive Found', 'Car Campers', '915 Campers',\n",
       "       'Poss Unreported 1030', 'Subj', 'Fp', 'Gambling', 'Wild',\n",
       "       '5150 Hold Poss', '419', '7.2.41/22500f', 'Shooting Up',\n",
       "       'St Vendors', '22500e/rz', 'Person Break In Dv', 'Veh W/open Door',\n",
       "       '22507.8a', 'Poss 801', '901 For 909', 'Unocc', 'Samurai',\n",
       "       '911 Open', 'Poss/851 Attemp Poss', 'Drugdealer', \"Mc's\", 'S',\n",
       "       'Rp', '459', 'Atc', '915s', 'Rtl/811', '420', 'Amplified',\n",
       "       'Tra7.2.37', 'Casers', 'Jump', 'Dismember Body Part', 'Poss/420',\n",
       "       '500b', '7.2.25/22500e', 'Busy', '528 Poss', 'Poss Walk Thru',\n",
       "       'Mace', 'Child', 'Loud Bass', 'Spit', 'Prem', 'Roof Squatters',\n",
       "       '.25/500e', '910 X', 'Drug Use', 'In Svc/ On Foot', 'Explosion',\n",
       "       'Scratch', '916/music', 'Return Call', 'Verbals', '100v',\n",
       "       'Loud Talking', '601/415', 'Hot', 'Cassing', 'Poss 488', 'A',\n",
       "       '152', '601/311', 'Trc 7.2.45', 'Cz', 'Silent', 'Poss Hazard',\n",
       "       '502a', '801 Threats', 'Home Invasion', '911 Drop', 'Tz', 'Npa',\n",
       "       'Toilet', 'Dropped Call', '459 Attempt', 'Ucpd', 'Jumper',\n",
       "       'Dog Bite', '909x', 'Attempt Report', 'Tro', 'Stepping On Plants',\n",
       "       'Muni Alarm', 'Ld', '240/602 Suspect', 'Poss Susp', '311x/poss800',\n",
       "       'Dogs Barking', 'Panhandler W/pitbull', 'Video Surveillence',\n",
       "       'H/r', '221/222 Poss', 'Areport', 'Protestors', '470 Poss',\n",
       "       'Broken Window', '`Drugs', 'Haz', 'House', '418rm', '240', '21211',\n",
       "       'Att Jo', \"Loud Subj's\", '811 Poss', '601/488', '7.2.70', 'Resd',\n",
       "       'Maced', '801', 'Suatters', '22514/500b', '212', '911 Open Line',\n",
       "       'Recycling', 'Park Ranger', 'Curb', 'Pills', 'Ll/ Tenant',\n",
       "       '219/601', 'Ifo', '911 Hu Call', '920 Rtl', 'Poss Att', 'Att Only',\n",
       "       'Ams', '***901 Req***', 'Drugs/915', 'Rpt', 'Children', '500e/rz',\n",
       "       'Vehicle', 'Ug Rtl', '601/family', 'Death', 'Att Susp', '9909',\n",
       "       '2 Reps', 'Vending', 'Drp', 'Brewing/pay Dispute', 'Skateboarders',\n",
       "       'Sonitrol', 'Wreckless Driver', '148', 'Bicylist', '852 Casing',\n",
       "       'Nabo', 'R.o. Violation', '910 Poss', '22500e/500h', 'Pay Disp',\n",
       "       '22654e', 'Brewing', '.52', 'Phys', '222 Att', 'Wireless-Open',\n",
       "       'Adv To Co A', 'Wireless-H/u'], dtype=object)"
      ]
     },
     "metadata": {},
     "output_type": "display_data"
    },
    {
     "data": {
      "text/plain": [
       "'----'"
      ]
     },
     "metadata": {},
     "output_type": "display_data"
    },
    {
     "data": {
      "text/plain": [
       "'OffenseDate'"
      ]
     },
     "metadata": {},
     "output_type": "display_data"
    },
    {
     "data": {
      "text/plain": [
       "array(['2016-03-30T00:00:00', '2016-03-31T00:00:00',\n",
       "       '2016-04-01T00:00:00', '2016-04-02T00:00:00',\n",
       "       '2016-04-03T00:00:00', '2016-04-04T00:00:00',\n",
       "       '2013-04-04T00:00:00', '2025-04-04T00:00:00',\n",
       "       '2016-04-05T00:00:00'], dtype=object)"
      ]
     },
     "metadata": {},
     "output_type": "display_data"
    },
    {
     "data": {
      "text/plain": [
       "'----'"
      ]
     },
     "metadata": {},
     "output_type": "display_data"
    },
    {
     "data": {
      "text/plain": [
       "'CallTime'"
      ]
     },
     "metadata": {},
     "output_type": "display_data"
    },
    {
     "data": {
      "text/plain": [
       "array(['18:42', '15:31', '16:49', ..., '6:12', '6:33', '6:55'],\n",
       "      dtype=object)"
      ]
     },
     "metadata": {},
     "output_type": "display_data"
    },
    {
     "data": {
      "text/plain": [
       "'----'"
      ]
     },
     "metadata": {},
     "output_type": "display_data"
    },
    {
     "data": {
      "text/plain": [
       "'CallDateTime'"
      ]
     },
     "metadata": {},
     "output_type": "display_data"
    },
    {
     "data": {
      "text/plain": [
       "array(['2016-03-30T18:42:00', '2016-03-31T15:31:00',\n",
       "       '2016-03-31T16:49:00', ..., '2016-04-05T23:43:00',\n",
       "       '2016-04-05T23:48:00', '2016-04-05T23:54:00'], dtype=object)"
      ]
     },
     "metadata": {},
     "output_type": "display_data"
    },
    {
     "data": {
      "text/plain": [
       "'----'"
      ]
     },
     "metadata": {},
     "output_type": "display_data"
    },
    {
     "data": {
      "text/plain": [
       "'Disposition'"
      ]
     },
     "metadata": {},
     "output_type": "display_data"
    },
    {
     "data": {
      "text/plain": [
       "array(['REP', 'GOA', 'ADV', 'HAN', 'ND', 'ARR', 'UTL', 'Not recorded',\n",
       "       'CIT', 'PAS', 'ABA', 'NOM', 'ADM', 'CAN', 'INC', 'NCR', '22',\n",
       "       'CRT', 'SFD'], dtype=object)"
      ]
     },
     "metadata": {},
     "output_type": "display_data"
    },
    {
     "data": {
      "text/plain": [
       "'----'"
      ]
     },
     "metadata": {},
     "output_type": "display_data"
    },
    {
     "data": {
      "text/plain": [
       "'Address'"
      ]
     },
     "metadata": {},
     "output_type": "display_data"
    },
    {
     "data": {
      "text/plain": [
       "array(['100 Block Of Chilton Av', '2300 Block Of Market St',\n",
       "       '500 Block Of 7th St', ..., 'Hollister Av/hawes St',\n",
       "       'Rosella Ct/onondaga Av', '0 Blk Herbst Rd'], dtype=object)"
      ]
     },
     "metadata": {},
     "output_type": "display_data"
    },
    {
     "data": {
      "text/plain": [
       "'----'"
      ]
     },
     "metadata": {},
     "output_type": "display_data"
    },
    {
     "data": {
      "text/plain": [
       "'City'"
      ]
     },
     "metadata": {},
     "output_type": "display_data"
    },
    {
     "data": {
      "text/plain": [
       "array(['San Francisco', nan, 'Daly City', 'Treasure Isla', 'Yerba Buena',\n",
       "       'SAN FRANCISCO', 'Presidio', ' S', 'Brisbane'], dtype=object)"
      ]
     },
     "metadata": {},
     "output_type": "display_data"
    },
    {
     "data": {
      "text/plain": [
       "'----'"
      ]
     },
     "metadata": {},
     "output_type": "display_data"
    },
    {
     "data": {
      "text/plain": [
       "'State'"
      ]
     },
     "metadata": {},
     "output_type": "display_data"
    },
    {
     "data": {
      "text/plain": [
       "array(['CA', nan], dtype=object)"
      ]
     },
     "metadata": {},
     "output_type": "display_data"
    },
    {
     "data": {
      "text/plain": [
       "'----'"
      ]
     },
     "metadata": {},
     "output_type": "display_data"
    },
    {
     "data": {
      "text/plain": [
       "'AgencyId'"
      ]
     },
     "metadata": {},
     "output_type": "display_data"
    },
    {
     "data": {
      "text/plain": [
       "array(['1', 'CA'], dtype=object)"
      ]
     },
     "metadata": {},
     "output_type": "display_data"
    },
    {
     "data": {
      "text/plain": [
       "'----'"
      ]
     },
     "metadata": {},
     "output_type": "display_data"
    },
    {
     "data": {
      "text/plain": [
       "'Range'"
      ]
     },
     "metadata": {},
     "output_type": "display_data"
    },
    {
     "data": {
      "text/plain": [
       "array([nan])"
      ]
     },
     "metadata": {},
     "output_type": "display_data"
    },
    {
     "data": {
      "text/plain": [
       "'----'"
      ]
     },
     "metadata": {},
     "output_type": "display_data"
    },
    {
     "data": {
      "text/plain": [
       "'AddressType'"
      ]
     },
     "metadata": {},
     "output_type": "display_data"
    },
    {
     "data": {
      "text/plain": [
       "array(['Premise Address', 'Intersection', 'Common Location',\n",
       "       'Geo-Override', 'Intersectioon', '1'], dtype=object)"
      ]
     },
     "metadata": {},
     "output_type": "display_data"
    },
    {
     "data": {
      "text/plain": [
       "'----'"
      ]
     },
     "metadata": {},
     "output_type": "display_data"
    }
   ],
   "source": [
    "\"\"\" ejecutar funcion para mostrar valores unicos\"\"\"\n",
    "valores_unicos_etiquetas(caracteristicas)"
   ]
  },
  {
   "cell_type": "code",
   "execution_count": 9,
   "id": "206bfb17-3024-490f-86c0-04616c551081",
   "metadata": {},
   "outputs": [],
   "source": [
    "\"\"\" encontrar el numero de veces que se repiten los valores unicos de cada una de las caracteristicas \"\"\"\n",
    "def valores_unicos_etiquetas(n_caracteristicas):\n",
    "    for i in n_caracteristicas:\n",
    "        display(df.groupby(i).size().reset_index(name='Cantidad'))"
   ]
  },
  {
   "cell_type": "code",
   "execution_count": 10,
   "id": "513ecf87-30fd-4c0d-9a49-58b860627db1",
   "metadata": {},
   "outputs": [
    {
     "data": {
      "text/html": [
       "<div>\n",
       "<style scoped>\n",
       "    .dataframe tbody tr th:only-of-type {\n",
       "        vertical-align: middle;\n",
       "    }\n",
       "\n",
       "    .dataframe tbody tr th {\n",
       "        vertical-align: top;\n",
       "    }\n",
       "\n",
       "    .dataframe thead th {\n",
       "        text-align: right;\n",
       "    }\n",
       "</style>\n",
       "<table border=\"1\" class=\"dataframe\">\n",
       "  <thead>\n",
       "    <tr style=\"text-align: right;\">\n",
       "      <th></th>\n",
       "      <th>CrimeId</th>\n",
       "      <th>Cantidad</th>\n",
       "    </tr>\n",
       "  </thead>\n",
       "  <tbody>\n",
       "    <tr>\n",
       "      <th>0</th>\n",
       "      <td>160903280</td>\n",
       "      <td>1</td>\n",
       "    </tr>\n",
       "    <tr>\n",
       "      <th>1</th>\n",
       "      <td>160912272</td>\n",
       "      <td>1</td>\n",
       "    </tr>\n",
       "    <tr>\n",
       "      <th>2</th>\n",
       "      <td>160912590</td>\n",
       "      <td>1</td>\n",
       "    </tr>\n",
       "    <tr>\n",
       "      <th>3</th>\n",
       "      <td>160912801</td>\n",
       "      <td>1</td>\n",
       "    </tr>\n",
       "    <tr>\n",
       "      <th>4</th>\n",
       "      <td>160912811</td>\n",
       "      <td>1</td>\n",
       "    </tr>\n",
       "    <tr>\n",
       "      <th>...</th>\n",
       "      <td>...</td>\n",
       "      <td>...</td>\n",
       "    </tr>\n",
       "    <tr>\n",
       "      <th>10042</th>\n",
       "      <td>160964210</td>\n",
       "      <td>1</td>\n",
       "    </tr>\n",
       "    <tr>\n",
       "      <th>10043</th>\n",
       "      <td>160964216</td>\n",
       "      <td>1</td>\n",
       "    </tr>\n",
       "    <tr>\n",
       "      <th>10044</th>\n",
       "      <td>160964227</td>\n",
       "      <td>1</td>\n",
       "    </tr>\n",
       "    <tr>\n",
       "      <th>10045</th>\n",
       "      <td>160964229</td>\n",
       "      <td>1</td>\n",
       "    </tr>\n",
       "    <tr>\n",
       "      <th>10046</th>\n",
       "      <td>160964249</td>\n",
       "      <td>1</td>\n",
       "    </tr>\n",
       "  </tbody>\n",
       "</table>\n",
       "<p>10047 rows × 2 columns</p>\n",
       "</div>"
      ],
      "text/plain": [
       "         CrimeId  Cantidad\n",
       "0      160903280         1\n",
       "1      160912272         1\n",
       "2      160912590         1\n",
       "3      160912801         1\n",
       "4      160912811         1\n",
       "...          ...       ...\n",
       "10042  160964210         1\n",
       "10043  160964216         1\n",
       "10044  160964227         1\n",
       "10045  160964229         1\n",
       "10046  160964249         1\n",
       "\n",
       "[10047 rows x 2 columns]"
      ]
     },
     "metadata": {},
     "output_type": "display_data"
    },
    {
     "data": {
      "text/html": [
       "<div>\n",
       "<style scoped>\n",
       "    .dataframe tbody tr th:only-of-type {\n",
       "        vertical-align: middle;\n",
       "    }\n",
       "\n",
       "    .dataframe tbody tr th {\n",
       "        vertical-align: top;\n",
       "    }\n",
       "\n",
       "    .dataframe thead th {\n",
       "        text-align: right;\n",
       "    }\n",
       "</style>\n",
       "<table border=\"1\" class=\"dataframe\">\n",
       "  <thead>\n",
       "    <tr style=\"text-align: right;\">\n",
       "      <th></th>\n",
       "      <th>OriginalCrimeTypeName</th>\n",
       "      <th>Cantidad</th>\n",
       "    </tr>\n",
       "  </thead>\n",
       "  <tbody>\n",
       "    <tr>\n",
       "      <th>0</th>\n",
       "      <td>***901 Req***</td>\n",
       "      <td>1</td>\n",
       "    </tr>\n",
       "    <tr>\n",
       "      <th>1</th>\n",
       "      <td>**Tazer**</td>\n",
       "      <td>1</td>\n",
       "    </tr>\n",
       "    <tr>\n",
       "      <th>2</th>\n",
       "      <td>*909*</td>\n",
       "      <td>1</td>\n",
       "    </tr>\n",
       "    <tr>\n",
       "      <th>3</th>\n",
       "      <td>.25/500e</td>\n",
       "      <td>2</td>\n",
       "    </tr>\n",
       "    <tr>\n",
       "      <th>4</th>\n",
       "      <td>.52</td>\n",
       "      <td>1</td>\n",
       "    </tr>\n",
       "    <tr>\n",
       "      <th>...</th>\n",
       "      <td>...</td>\n",
       "      <td>...</td>\n",
       "    </tr>\n",
       "    <tr>\n",
       "      <th>570</th>\n",
       "      <td>Wz</td>\n",
       "      <td>12</td>\n",
       "    </tr>\n",
       "    <tr>\n",
       "      <th>571</th>\n",
       "      <td>X</td>\n",
       "      <td>17</td>\n",
       "    </tr>\n",
       "    <tr>\n",
       "      <th>572</th>\n",
       "      <td>X 594</td>\n",
       "      <td>1</td>\n",
       "    </tr>\n",
       "    <tr>\n",
       "      <th>573</th>\n",
       "      <td>Yelling</td>\n",
       "      <td>3</td>\n",
       "    </tr>\n",
       "    <tr>\n",
       "      <th>574</th>\n",
       "      <td>`Drugs</td>\n",
       "      <td>1</td>\n",
       "    </tr>\n",
       "  </tbody>\n",
       "</table>\n",
       "<p>575 rows × 2 columns</p>\n",
       "</div>"
      ],
      "text/plain": [
       "    OriginalCrimeTypeName  Cantidad\n",
       "0           ***901 Req***         1\n",
       "1               **Tazer**         1\n",
       "2                   *909*         1\n",
       "3                .25/500e         2\n",
       "4                     .52         1\n",
       "..                    ...       ...\n",
       "570                    Wz        12\n",
       "571                     X        17\n",
       "572                 X 594         1\n",
       "573               Yelling         3\n",
       "574                `Drugs         1\n",
       "\n",
       "[575 rows x 2 columns]"
      ]
     },
     "metadata": {},
     "output_type": "display_data"
    },
    {
     "data": {
      "text/html": [
       "<div>\n",
       "<style scoped>\n",
       "    .dataframe tbody tr th:only-of-type {\n",
       "        vertical-align: middle;\n",
       "    }\n",
       "\n",
       "    .dataframe tbody tr th {\n",
       "        vertical-align: top;\n",
       "    }\n",
       "\n",
       "    .dataframe thead th {\n",
       "        text-align: right;\n",
       "    }\n",
       "</style>\n",
       "<table border=\"1\" class=\"dataframe\">\n",
       "  <thead>\n",
       "    <tr style=\"text-align: right;\">\n",
       "      <th></th>\n",
       "      <th>OffenseDate</th>\n",
       "      <th>Cantidad</th>\n",
       "    </tr>\n",
       "  </thead>\n",
       "  <tbody>\n",
       "    <tr>\n",
       "      <th>0</th>\n",
       "      <td>2013-04-04T00:00:00</td>\n",
       "      <td>1</td>\n",
       "    </tr>\n",
       "    <tr>\n",
       "      <th>1</th>\n",
       "      <td>2016-03-30T00:00:00</td>\n",
       "      <td>1</td>\n",
       "    </tr>\n",
       "    <tr>\n",
       "      <th>2</th>\n",
       "      <td>2016-03-31T00:00:00</td>\n",
       "      <td>87</td>\n",
       "    </tr>\n",
       "    <tr>\n",
       "      <th>3</th>\n",
       "      <td>2016-04-01T00:00:00</td>\n",
       "      <td>2224</td>\n",
       "    </tr>\n",
       "    <tr>\n",
       "      <th>4</th>\n",
       "      <td>2016-04-02T00:00:00</td>\n",
       "      <td>2259</td>\n",
       "    </tr>\n",
       "    <tr>\n",
       "      <th>5</th>\n",
       "      <td>2016-04-03T00:00:00</td>\n",
       "      <td>2193</td>\n",
       "    </tr>\n",
       "    <tr>\n",
       "      <th>6</th>\n",
       "      <td>2016-04-04T00:00:00</td>\n",
       "      <td>2255</td>\n",
       "    </tr>\n",
       "    <tr>\n",
       "      <th>7</th>\n",
       "      <td>2016-04-05T00:00:00</td>\n",
       "      <td>1030</td>\n",
       "    </tr>\n",
       "    <tr>\n",
       "      <th>8</th>\n",
       "      <td>2025-04-04T00:00:00</td>\n",
       "      <td>1</td>\n",
       "    </tr>\n",
       "  </tbody>\n",
       "</table>\n",
       "</div>"
      ],
      "text/plain": [
       "           OffenseDate  Cantidad\n",
       "0  2013-04-04T00:00:00         1\n",
       "1  2016-03-30T00:00:00         1\n",
       "2  2016-03-31T00:00:00        87\n",
       "3  2016-04-01T00:00:00      2224\n",
       "4  2016-04-02T00:00:00      2259\n",
       "5  2016-04-03T00:00:00      2193\n",
       "6  2016-04-04T00:00:00      2255\n",
       "7  2016-04-05T00:00:00      1030\n",
       "8  2025-04-04T00:00:00         1"
      ]
     },
     "metadata": {},
     "output_type": "display_data"
    },
    {
     "data": {
      "text/html": [
       "<div>\n",
       "<style scoped>\n",
       "    .dataframe tbody tr th:only-of-type {\n",
       "        vertical-align: middle;\n",
       "    }\n",
       "\n",
       "    .dataframe tbody tr th {\n",
       "        vertical-align: top;\n",
       "    }\n",
       "\n",
       "    .dataframe thead th {\n",
       "        text-align: right;\n",
       "    }\n",
       "</style>\n",
       "<table border=\"1\" class=\"dataframe\">\n",
       "  <thead>\n",
       "    <tr style=\"text-align: right;\">\n",
       "      <th></th>\n",
       "      <th>CallTime</th>\n",
       "      <th>Cantidad</th>\n",
       "    </tr>\n",
       "  </thead>\n",
       "  <tbody>\n",
       "    <tr>\n",
       "      <th>0</th>\n",
       "      <td>0:00</td>\n",
       "      <td>10</td>\n",
       "    </tr>\n",
       "    <tr>\n",
       "      <th>1</th>\n",
       "      <td>0:01</td>\n",
       "      <td>5</td>\n",
       "    </tr>\n",
       "    <tr>\n",
       "      <th>2</th>\n",
       "      <td>0:02</td>\n",
       "      <td>6</td>\n",
       "    </tr>\n",
       "    <tr>\n",
       "      <th>3</th>\n",
       "      <td>0:03</td>\n",
       "      <td>11</td>\n",
       "    </tr>\n",
       "    <tr>\n",
       "      <th>4</th>\n",
       "      <td>0:04</td>\n",
       "      <td>11</td>\n",
       "    </tr>\n",
       "    <tr>\n",
       "      <th>...</th>\n",
       "      <td>...</td>\n",
       "      <td>...</td>\n",
       "    </tr>\n",
       "    <tr>\n",
       "      <th>1411</th>\n",
       "      <td>9:55</td>\n",
       "      <td>7</td>\n",
       "    </tr>\n",
       "    <tr>\n",
       "      <th>1412</th>\n",
       "      <td>9:56</td>\n",
       "      <td>5</td>\n",
       "    </tr>\n",
       "    <tr>\n",
       "      <th>1413</th>\n",
       "      <td>9:57</td>\n",
       "      <td>7</td>\n",
       "    </tr>\n",
       "    <tr>\n",
       "      <th>1414</th>\n",
       "      <td>9:58</td>\n",
       "      <td>11</td>\n",
       "    </tr>\n",
       "    <tr>\n",
       "      <th>1415</th>\n",
       "      <td>9:59</td>\n",
       "      <td>9</td>\n",
       "    </tr>\n",
       "  </tbody>\n",
       "</table>\n",
       "<p>1416 rows × 2 columns</p>\n",
       "</div>"
      ],
      "text/plain": [
       "     CallTime  Cantidad\n",
       "0        0:00        10\n",
       "1        0:01         5\n",
       "2        0:02         6\n",
       "3        0:03        11\n",
       "4        0:04        11\n",
       "...       ...       ...\n",
       "1411     9:55         7\n",
       "1412     9:56         5\n",
       "1413     9:57         7\n",
       "1414     9:58        11\n",
       "1415     9:59         9\n",
       "\n",
       "[1416 rows x 2 columns]"
      ]
     },
     "metadata": {},
     "output_type": "display_data"
    },
    {
     "data": {
      "text/html": [
       "<div>\n",
       "<style scoped>\n",
       "    .dataframe tbody tr th:only-of-type {\n",
       "        vertical-align: middle;\n",
       "    }\n",
       "\n",
       "    .dataframe tbody tr th {\n",
       "        vertical-align: top;\n",
       "    }\n",
       "\n",
       "    .dataframe thead th {\n",
       "        text-align: right;\n",
       "    }\n",
       "</style>\n",
       "<table border=\"1\" class=\"dataframe\">\n",
       "  <thead>\n",
       "    <tr style=\"text-align: right;\">\n",
       "      <th></th>\n",
       "      <th>CallDateTime</th>\n",
       "      <th>Cantidad</th>\n",
       "    </tr>\n",
       "  </thead>\n",
       "  <tbody>\n",
       "    <tr>\n",
       "      <th>0</th>\n",
       "      <td>2016-03-30T18:42:00</td>\n",
       "      <td>1</td>\n",
       "    </tr>\n",
       "    <tr>\n",
       "      <th>1</th>\n",
       "      <td>2016-03-31T15:31:00</td>\n",
       "      <td>1</td>\n",
       "    </tr>\n",
       "    <tr>\n",
       "      <th>2</th>\n",
       "      <td>2016-03-31T16:49:00</td>\n",
       "      <td>1</td>\n",
       "    </tr>\n",
       "    <tr>\n",
       "      <th>3</th>\n",
       "      <td>2016-03-31T17:38:00</td>\n",
       "      <td>1</td>\n",
       "    </tr>\n",
       "    <tr>\n",
       "      <th>4</th>\n",
       "      <td>2016-03-31T17:42:00</td>\n",
       "      <td>1</td>\n",
       "    </tr>\n",
       "    <tr>\n",
       "      <th>...</th>\n",
       "      <td>...</td>\n",
       "      <td>...</td>\n",
       "    </tr>\n",
       "    <tr>\n",
       "      <th>5111</th>\n",
       "      <td>2016-04-05T23:32:00</td>\n",
       "      <td>2</td>\n",
       "    </tr>\n",
       "    <tr>\n",
       "      <th>5112</th>\n",
       "      <td>2016-04-05T23:38:00</td>\n",
       "      <td>1</td>\n",
       "    </tr>\n",
       "    <tr>\n",
       "      <th>5113</th>\n",
       "      <td>2016-04-05T23:43:00</td>\n",
       "      <td>1</td>\n",
       "    </tr>\n",
       "    <tr>\n",
       "      <th>5114</th>\n",
       "      <td>2016-04-05T23:48:00</td>\n",
       "      <td>2</td>\n",
       "    </tr>\n",
       "    <tr>\n",
       "      <th>5115</th>\n",
       "      <td>2016-04-05T23:54:00</td>\n",
       "      <td>1</td>\n",
       "    </tr>\n",
       "  </tbody>\n",
       "</table>\n",
       "<p>5116 rows × 2 columns</p>\n",
       "</div>"
      ],
      "text/plain": [
       "             CallDateTime  Cantidad\n",
       "0     2016-03-30T18:42:00         1\n",
       "1     2016-03-31T15:31:00         1\n",
       "2     2016-03-31T16:49:00         1\n",
       "3     2016-03-31T17:38:00         1\n",
       "4     2016-03-31T17:42:00         1\n",
       "...                   ...       ...\n",
       "5111  2016-04-05T23:32:00         2\n",
       "5112  2016-04-05T23:38:00         1\n",
       "5113  2016-04-05T23:43:00         1\n",
       "5114  2016-04-05T23:48:00         2\n",
       "5115  2016-04-05T23:54:00         1\n",
       "\n",
       "[5116 rows x 2 columns]"
      ]
     },
     "metadata": {},
     "output_type": "display_data"
    },
    {
     "data": {
      "text/html": [
       "<div>\n",
       "<style scoped>\n",
       "    .dataframe tbody tr th:only-of-type {\n",
       "        vertical-align: middle;\n",
       "    }\n",
       "\n",
       "    .dataframe tbody tr th {\n",
       "        vertical-align: top;\n",
       "    }\n",
       "\n",
       "    .dataframe thead th {\n",
       "        text-align: right;\n",
       "    }\n",
       "</style>\n",
       "<table border=\"1\" class=\"dataframe\">\n",
       "  <thead>\n",
       "    <tr style=\"text-align: right;\">\n",
       "      <th></th>\n",
       "      <th>Disposition</th>\n",
       "      <th>Cantidad</th>\n",
       "    </tr>\n",
       "  </thead>\n",
       "  <tbody>\n",
       "    <tr>\n",
       "      <th>0</th>\n",
       "      <td>22</td>\n",
       "      <td>77</td>\n",
       "    </tr>\n",
       "    <tr>\n",
       "      <th>1</th>\n",
       "      <td>ABA</td>\n",
       "      <td>97</td>\n",
       "    </tr>\n",
       "    <tr>\n",
       "      <th>2</th>\n",
       "      <td>ADM</td>\n",
       "      <td>48</td>\n",
       "    </tr>\n",
       "    <tr>\n",
       "      <th>3</th>\n",
       "      <td>ADV</td>\n",
       "      <td>1142</td>\n",
       "    </tr>\n",
       "    <tr>\n",
       "      <th>4</th>\n",
       "      <td>ARR</td>\n",
       "      <td>65</td>\n",
       "    </tr>\n",
       "    <tr>\n",
       "      <th>5</th>\n",
       "      <td>CAN</td>\n",
       "      <td>353</td>\n",
       "    </tr>\n",
       "    <tr>\n",
       "      <th>6</th>\n",
       "      <td>CIT</td>\n",
       "      <td>1425</td>\n",
       "    </tr>\n",
       "    <tr>\n",
       "      <th>7</th>\n",
       "      <td>CRT</td>\n",
       "      <td>2</td>\n",
       "    </tr>\n",
       "    <tr>\n",
       "      <th>8</th>\n",
       "      <td>GOA</td>\n",
       "      <td>1273</td>\n",
       "    </tr>\n",
       "    <tr>\n",
       "      <th>9</th>\n",
       "      <td>HAN</td>\n",
       "      <td>2820</td>\n",
       "    </tr>\n",
       "    <tr>\n",
       "      <th>10</th>\n",
       "      <td>INC</td>\n",
       "      <td>17</td>\n",
       "    </tr>\n",
       "    <tr>\n",
       "      <th>11</th>\n",
       "      <td>NCR</td>\n",
       "      <td>82</td>\n",
       "    </tr>\n",
       "    <tr>\n",
       "      <th>12</th>\n",
       "      <td>ND</td>\n",
       "      <td>427</td>\n",
       "    </tr>\n",
       "    <tr>\n",
       "      <th>13</th>\n",
       "      <td>NOM</td>\n",
       "      <td>324</td>\n",
       "    </tr>\n",
       "    <tr>\n",
       "      <th>14</th>\n",
       "      <td>Not recorded</td>\n",
       "      <td>543</td>\n",
       "    </tr>\n",
       "    <tr>\n",
       "      <th>15</th>\n",
       "      <td>PAS</td>\n",
       "      <td>170</td>\n",
       "    </tr>\n",
       "    <tr>\n",
       "      <th>16</th>\n",
       "      <td>REP</td>\n",
       "      <td>800</td>\n",
       "    </tr>\n",
       "    <tr>\n",
       "      <th>17</th>\n",
       "      <td>SFD</td>\n",
       "      <td>1</td>\n",
       "    </tr>\n",
       "    <tr>\n",
       "      <th>18</th>\n",
       "      <td>UTL</td>\n",
       "      <td>385</td>\n",
       "    </tr>\n",
       "  </tbody>\n",
       "</table>\n",
       "</div>"
      ],
      "text/plain": [
       "     Disposition  Cantidad\n",
       "0             22        77\n",
       "1            ABA        97\n",
       "2            ADM        48\n",
       "3            ADV      1142\n",
       "4            ARR        65\n",
       "5            CAN       353\n",
       "6            CIT      1425\n",
       "7            CRT         2\n",
       "8            GOA      1273\n",
       "9            HAN      2820\n",
       "10           INC        17\n",
       "11           NCR        82\n",
       "12            ND       427\n",
       "13           NOM       324\n",
       "14  Not recorded       543\n",
       "15           PAS       170\n",
       "16           REP       800\n",
       "17           SFD         1\n",
       "18           UTL       385"
      ]
     },
     "metadata": {},
     "output_type": "display_data"
    },
    {
     "data": {
      "text/html": [
       "<div>\n",
       "<style scoped>\n",
       "    .dataframe tbody tr th:only-of-type {\n",
       "        vertical-align: middle;\n",
       "    }\n",
       "\n",
       "    .dataframe tbody tr th {\n",
       "        vertical-align: top;\n",
       "    }\n",
       "\n",
       "    .dataframe thead th {\n",
       "        text-align: right;\n",
       "    }\n",
       "</style>\n",
       "<table border=\"1\" class=\"dataframe\">\n",
       "  <thead>\n",
       "    <tr style=\"text-align: right;\">\n",
       "      <th></th>\n",
       "      <th>Address</th>\n",
       "      <th>Cantidad</th>\n",
       "    </tr>\n",
       "  </thead>\n",
       "  <tbody>\n",
       "    <tr>\n",
       "      <th>0</th>\n",
       "      <td>0 Blk 6th St</td>\n",
       "      <td>1</td>\n",
       "    </tr>\n",
       "    <tr>\n",
       "      <th>1</th>\n",
       "      <td>0 Blk Colin P Kelly Jr St</td>\n",
       "      <td>1</td>\n",
       "    </tr>\n",
       "    <tr>\n",
       "      <th>2</th>\n",
       "      <td>0 Blk Eugenia Av</td>\n",
       "      <td>1</td>\n",
       "    </tr>\n",
       "    <tr>\n",
       "      <th>3</th>\n",
       "      <td>0 Blk Fern St</td>\n",
       "      <td>1</td>\n",
       "    </tr>\n",
       "    <tr>\n",
       "      <th>4</th>\n",
       "      <td>0 Blk Harriet St</td>\n",
       "      <td>3</td>\n",
       "    </tr>\n",
       "    <tr>\n",
       "      <th>...</th>\n",
       "      <td>...</td>\n",
       "      <td>...</td>\n",
       "    </tr>\n",
       "    <tr>\n",
       "      <th>5382</th>\n",
       "      <td>Yerba Buena Island</td>\n",
       "      <td>1</td>\n",
       "    </tr>\n",
       "    <tr>\n",
       "      <th>5383</th>\n",
       "      <td>Yorba St/sunset Bl</td>\n",
       "      <td>1</td>\n",
       "    </tr>\n",
       "    <tr>\n",
       "      <th>5384</th>\n",
       "      <td>York St/19th St</td>\n",
       "      <td>1</td>\n",
       "    </tr>\n",
       "    <tr>\n",
       "      <th>5385</th>\n",
       "      <td>York St/24th St</td>\n",
       "      <td>1</td>\n",
       "    </tr>\n",
       "    <tr>\n",
       "      <th>5386</th>\n",
       "      <td>Yosemite Av/jennings St</td>\n",
       "      <td>1</td>\n",
       "    </tr>\n",
       "  </tbody>\n",
       "</table>\n",
       "<p>5387 rows × 2 columns</p>\n",
       "</div>"
      ],
      "text/plain": [
       "                        Address  Cantidad\n",
       "0                  0 Blk 6th St         1\n",
       "1     0 Blk Colin P Kelly Jr St         1\n",
       "2              0 Blk Eugenia Av         1\n",
       "3                 0 Blk Fern St         1\n",
       "4              0 Blk Harriet St         3\n",
       "...                         ...       ...\n",
       "5382         Yerba Buena Island         1\n",
       "5383         Yorba St/sunset Bl         1\n",
       "5384            York St/19th St         1\n",
       "5385            York St/24th St         1\n",
       "5386    Yosemite Av/jennings St         1\n",
       "\n",
       "[5387 rows x 2 columns]"
      ]
     },
     "metadata": {},
     "output_type": "display_data"
    },
    {
     "data": {
      "text/html": [
       "<div>\n",
       "<style scoped>\n",
       "    .dataframe tbody tr th:only-of-type {\n",
       "        vertical-align: middle;\n",
       "    }\n",
       "\n",
       "    .dataframe tbody tr th {\n",
       "        vertical-align: top;\n",
       "    }\n",
       "\n",
       "    .dataframe thead th {\n",
       "        text-align: right;\n",
       "    }\n",
       "</style>\n",
       "<table border=\"1\" class=\"dataframe\">\n",
       "  <thead>\n",
       "    <tr style=\"text-align: right;\">\n",
       "      <th></th>\n",
       "      <th>City</th>\n",
       "      <th>Cantidad</th>\n",
       "    </tr>\n",
       "  </thead>\n",
       "  <tbody>\n",
       "    <tr>\n",
       "      <th>0</th>\n",
       "      <td>S</td>\n",
       "      <td>1</td>\n",
       "    </tr>\n",
       "    <tr>\n",
       "      <th>1</th>\n",
       "      <td>Brisbane</td>\n",
       "      <td>1</td>\n",
       "    </tr>\n",
       "    <tr>\n",
       "      <th>2</th>\n",
       "      <td>Daly City</td>\n",
       "      <td>5</td>\n",
       "    </tr>\n",
       "    <tr>\n",
       "      <th>3</th>\n",
       "      <td>Presidio</td>\n",
       "      <td>3</td>\n",
       "    </tr>\n",
       "    <tr>\n",
       "      <th>4</th>\n",
       "      <td>SAN FRANCISCO</td>\n",
       "      <td>1</td>\n",
       "    </tr>\n",
       "    <tr>\n",
       "      <th>5</th>\n",
       "      <td>San Francisco</td>\n",
       "      <td>9665</td>\n",
       "    </tr>\n",
       "    <tr>\n",
       "      <th>6</th>\n",
       "      <td>Treasure Isla</td>\n",
       "      <td>51</td>\n",
       "    </tr>\n",
       "    <tr>\n",
       "      <th>7</th>\n",
       "      <td>Yerba Buena</td>\n",
       "      <td>3</td>\n",
       "    </tr>\n",
       "  </tbody>\n",
       "</table>\n",
       "</div>"
      ],
      "text/plain": [
       "            City  Cantidad\n",
       "0              S         1\n",
       "1       Brisbane         1\n",
       "2      Daly City         5\n",
       "3       Presidio         3\n",
       "4  SAN FRANCISCO         1\n",
       "5  San Francisco      9665\n",
       "6  Treasure Isla        51\n",
       "7    Yerba Buena         3"
      ]
     },
     "metadata": {},
     "output_type": "display_data"
    },
    {
     "data": {
      "text/html": [
       "<div>\n",
       "<style scoped>\n",
       "    .dataframe tbody tr th:only-of-type {\n",
       "        vertical-align: middle;\n",
       "    }\n",
       "\n",
       "    .dataframe tbody tr th {\n",
       "        vertical-align: top;\n",
       "    }\n",
       "\n",
       "    .dataframe thead th {\n",
       "        text-align: right;\n",
       "    }\n",
       "</style>\n",
       "<table border=\"1\" class=\"dataframe\">\n",
       "  <thead>\n",
       "    <tr style=\"text-align: right;\">\n",
       "      <th></th>\n",
       "      <th>State</th>\n",
       "      <th>Cantidad</th>\n",
       "    </tr>\n",
       "  </thead>\n",
       "  <tbody>\n",
       "    <tr>\n",
       "      <th>0</th>\n",
       "      <td>CA</td>\n",
       "      <td>10048</td>\n",
       "    </tr>\n",
       "  </tbody>\n",
       "</table>\n",
       "</div>"
      ],
      "text/plain": [
       "  State  Cantidad\n",
       "0    CA     10048"
      ]
     },
     "metadata": {},
     "output_type": "display_data"
    },
    {
     "data": {
      "text/html": [
       "<div>\n",
       "<style scoped>\n",
       "    .dataframe tbody tr th:only-of-type {\n",
       "        vertical-align: middle;\n",
       "    }\n",
       "\n",
       "    .dataframe tbody tr th {\n",
       "        vertical-align: top;\n",
       "    }\n",
       "\n",
       "    .dataframe thead th {\n",
       "        text-align: right;\n",
       "    }\n",
       "</style>\n",
       "<table border=\"1\" class=\"dataframe\">\n",
       "  <thead>\n",
       "    <tr style=\"text-align: right;\">\n",
       "      <th></th>\n",
       "      <th>AgencyId</th>\n",
       "      <th>Cantidad</th>\n",
       "    </tr>\n",
       "  </thead>\n",
       "  <tbody>\n",
       "    <tr>\n",
       "      <th>0</th>\n",
       "      <td>1</td>\n",
       "      <td>10048</td>\n",
       "    </tr>\n",
       "    <tr>\n",
       "      <th>1</th>\n",
       "      <td>CA</td>\n",
       "      <td>3</td>\n",
       "    </tr>\n",
       "  </tbody>\n",
       "</table>\n",
       "</div>"
      ],
      "text/plain": [
       "  AgencyId  Cantidad\n",
       "0        1     10048\n",
       "1       CA         3"
      ]
     },
     "metadata": {},
     "output_type": "display_data"
    },
    {
     "data": {
      "text/html": [
       "<div>\n",
       "<style scoped>\n",
       "    .dataframe tbody tr th:only-of-type {\n",
       "        vertical-align: middle;\n",
       "    }\n",
       "\n",
       "    .dataframe tbody tr th {\n",
       "        vertical-align: top;\n",
       "    }\n",
       "\n",
       "    .dataframe thead th {\n",
       "        text-align: right;\n",
       "    }\n",
       "</style>\n",
       "<table border=\"1\" class=\"dataframe\">\n",
       "  <thead>\n",
       "    <tr style=\"text-align: right;\">\n",
       "      <th></th>\n",
       "      <th>Range</th>\n",
       "      <th>Cantidad</th>\n",
       "    </tr>\n",
       "  </thead>\n",
       "  <tbody>\n",
       "  </tbody>\n",
       "</table>\n",
       "</div>"
      ],
      "text/plain": [
       "Empty DataFrame\n",
       "Columns: [Range, Cantidad]\n",
       "Index: []"
      ]
     },
     "metadata": {},
     "output_type": "display_data"
    },
    {
     "data": {
      "text/html": [
       "<div>\n",
       "<style scoped>\n",
       "    .dataframe tbody tr th:only-of-type {\n",
       "        vertical-align: middle;\n",
       "    }\n",
       "\n",
       "    .dataframe tbody tr th {\n",
       "        vertical-align: top;\n",
       "    }\n",
       "\n",
       "    .dataframe thead th {\n",
       "        text-align: right;\n",
       "    }\n",
       "</style>\n",
       "<table border=\"1\" class=\"dataframe\">\n",
       "  <thead>\n",
       "    <tr style=\"text-align: right;\">\n",
       "      <th></th>\n",
       "      <th>AddressType</th>\n",
       "      <th>Cantidad</th>\n",
       "    </tr>\n",
       "  </thead>\n",
       "  <tbody>\n",
       "    <tr>\n",
       "      <th>0</th>\n",
       "      <td>1</td>\n",
       "      <td>3</td>\n",
       "    </tr>\n",
       "    <tr>\n",
       "      <th>1</th>\n",
       "      <td>Common Location</td>\n",
       "      <td>818</td>\n",
       "    </tr>\n",
       "    <tr>\n",
       "      <th>2</th>\n",
       "      <td>Geo-Override</td>\n",
       "      <td>469</td>\n",
       "    </tr>\n",
       "    <tr>\n",
       "      <th>3</th>\n",
       "      <td>Intersection</td>\n",
       "      <td>3701</td>\n",
       "    </tr>\n",
       "    <tr>\n",
       "      <th>4</th>\n",
       "      <td>Intersectioon</td>\n",
       "      <td>1</td>\n",
       "    </tr>\n",
       "    <tr>\n",
       "      <th>5</th>\n",
       "      <td>Premise Address</td>\n",
       "      <td>5059</td>\n",
       "    </tr>\n",
       "  </tbody>\n",
       "</table>\n",
       "</div>"
      ],
      "text/plain": [
       "       AddressType  Cantidad\n",
       "0                1         3\n",
       "1  Common Location       818\n",
       "2     Geo-Override       469\n",
       "3     Intersection      3701\n",
       "4    Intersectioon         1\n",
       "5  Premise Address      5059"
      ]
     },
     "metadata": {},
     "output_type": "display_data"
    }
   ],
   "source": [
    "\"\"\" ejecutar funcion para encontrar el nro de veces que se repite un valor en las filas de las caracteristicas\"\"\"\n",
    "valores_unicos_etiquetas(caracteristicas)"
   ]
  },
  {
   "cell_type": "markdown",
   "id": "62610f7a-cf47-40ba-bb53-d6d6106f1efe",
   "metadata": {},
   "source": [
    "### 1.3 Eliminacion de datos desconocidos y datos faltantes (Nan)"
   ]
  },
  {
   "cell_type": "code",
   "execution_count": 11,
   "id": "c885f89e-f241-422f-a1b5-a332babc81dd",
   "metadata": {},
   "outputs": [],
   "source": [
    "\"\"\" eliminar columna Range del conjunto de datos porque contiene Nan en todas sus filas\"\"\"\n",
    "df.drop(columns='Range', axis=1, inplace=True)"
   ]
  },
  {
   "cell_type": "code",
   "execution_count": 12,
   "id": "aa277eb3-cad8-424d-9dc6-930967205330",
   "metadata": {},
   "outputs": [
    {
     "data": {
      "text/html": [
       "<div>\n",
       "<style scoped>\n",
       "    .dataframe tbody tr th:only-of-type {\n",
       "        vertical-align: middle;\n",
       "    }\n",
       "\n",
       "    .dataframe tbody tr th {\n",
       "        vertical-align: top;\n",
       "    }\n",
       "\n",
       "    .dataframe thead th {\n",
       "        text-align: right;\n",
       "    }\n",
       "</style>\n",
       "<table border=\"1\" class=\"dataframe\">\n",
       "  <thead>\n",
       "    <tr style=\"text-align: right;\">\n",
       "      <th></th>\n",
       "      <th></th>\n",
       "      <th>CrimeId</th>\n",
       "      <th>OriginalCrimeTypeName</th>\n",
       "      <th>OffenseDate</th>\n",
       "      <th>CallTime</th>\n",
       "      <th>CallDateTime</th>\n",
       "      <th>Disposition</th>\n",
       "      <th>Address</th>\n",
       "      <th>City</th>\n",
       "      <th>State</th>\n",
       "    </tr>\n",
       "    <tr>\n",
       "      <th>AgencyId</th>\n",
       "      <th>AddressType</th>\n",
       "      <th></th>\n",
       "      <th></th>\n",
       "      <th></th>\n",
       "      <th></th>\n",
       "      <th></th>\n",
       "      <th></th>\n",
       "      <th></th>\n",
       "      <th></th>\n",
       "      <th></th>\n",
       "    </tr>\n",
       "  </thead>\n",
       "  <tbody>\n",
       "    <tr>\n",
       "      <th rowspan=\"5\" valign=\"top\">1</th>\n",
       "      <th>Common Location</th>\n",
       "      <td>818</td>\n",
       "      <td>818</td>\n",
       "      <td>818</td>\n",
       "      <td>818</td>\n",
       "      <td>818</td>\n",
       "      <td>818</td>\n",
       "      <td>818</td>\n",
       "      <td>817</td>\n",
       "      <td>818</td>\n",
       "    </tr>\n",
       "    <tr>\n",
       "      <th>Geo-Override</th>\n",
       "      <td>469</td>\n",
       "      <td>469</td>\n",
       "      <td>469</td>\n",
       "      <td>469</td>\n",
       "      <td>469</td>\n",
       "      <td>469</td>\n",
       "      <td>469</td>\n",
       "      <td>151</td>\n",
       "      <td>469</td>\n",
       "    </tr>\n",
       "    <tr>\n",
       "      <th>Intersection</th>\n",
       "      <td>3701</td>\n",
       "      <td>3701</td>\n",
       "      <td>3701</td>\n",
       "      <td>3701</td>\n",
       "      <td>3701</td>\n",
       "      <td>3701</td>\n",
       "      <td>3701</td>\n",
       "      <td>3701</td>\n",
       "      <td>3701</td>\n",
       "    </tr>\n",
       "    <tr>\n",
       "      <th>Intersectioon</th>\n",
       "      <td>1</td>\n",
       "      <td>1</td>\n",
       "      <td>1</td>\n",
       "      <td>1</td>\n",
       "      <td>1</td>\n",
       "      <td>1</td>\n",
       "      <td>1</td>\n",
       "      <td>1</td>\n",
       "      <td>1</td>\n",
       "    </tr>\n",
       "    <tr>\n",
       "      <th>Premise Address</th>\n",
       "      <td>5059</td>\n",
       "      <td>5059</td>\n",
       "      <td>5059</td>\n",
       "      <td>5059</td>\n",
       "      <td>5059</td>\n",
       "      <td>5059</td>\n",
       "      <td>5059</td>\n",
       "      <td>5059</td>\n",
       "      <td>5059</td>\n",
       "    </tr>\n",
       "    <tr>\n",
       "      <th>CA</th>\n",
       "      <th>1</th>\n",
       "      <td>3</td>\n",
       "      <td>3</td>\n",
       "      <td>3</td>\n",
       "      <td>3</td>\n",
       "      <td>3</td>\n",
       "      <td>3</td>\n",
       "      <td>3</td>\n",
       "      <td>1</td>\n",
       "      <td>0</td>\n",
       "    </tr>\n",
       "  </tbody>\n",
       "</table>\n",
       "</div>"
      ],
      "text/plain": [
       "                          CrimeId  OriginalCrimeTypeName  OffenseDate  \\\n",
       "AgencyId AddressType                                                    \n",
       "1        Common Location      818                    818          818   \n",
       "         Geo-Override         469                    469          469   \n",
       "         Intersection        3701                   3701         3701   \n",
       "         Intersectioon          1                      1            1   \n",
       "         Premise Address     5059                   5059         5059   \n",
       "CA       1                      3                      3            3   \n",
       "\n",
       "                          CallTime  CallDateTime  Disposition  Address  City  \\\n",
       "AgencyId AddressType                                                           \n",
       "1        Common Location       818           818          818      818   817   \n",
       "         Geo-Override          469           469          469      469   151   \n",
       "         Intersection         3701          3701         3701     3701  3701   \n",
       "         Intersectioon           1             1            1        1     1   \n",
       "         Premise Address      5059          5059         5059     5059  5059   \n",
       "CA       1                       3             3            3        3     1   \n",
       "\n",
       "                          State  \n",
       "AgencyId AddressType             \n",
       "1        Common Location    818  \n",
       "         Geo-Override       469  \n",
       "         Intersection      3701  \n",
       "         Intersectioon        1  \n",
       "         Premise Address   5059  \n",
       "CA       1                    0  "
      ]
     },
     "execution_count": 12,
     "metadata": {},
     "output_type": "execute_result"
    }
   ],
   "source": [
    "\"\"\" agrupar muestras que poseen datos desconocidos en las columnas que tienen un mismo valor en su mayoria de muestras \"\"\"\n",
    "df.groupby(['AgencyId','AddressType']).count()"
   ]
  },
  {
   "cell_type": "code",
   "execution_count": 13,
   "id": "a240c8b5-0a43-43d9-a012-4cff4fe7c7ed",
   "metadata": {},
   "outputs": [
    {
     "data": {
      "text/html": [
       "<div>\n",
       "<style scoped>\n",
       "    .dataframe tbody tr th:only-of-type {\n",
       "        vertical-align: middle;\n",
       "    }\n",
       "\n",
       "    .dataframe tbody tr th {\n",
       "        vertical-align: top;\n",
       "    }\n",
       "\n",
       "    .dataframe thead th {\n",
       "        text-align: right;\n",
       "    }\n",
       "</style>\n",
       "<table border=\"1\" class=\"dataframe\">\n",
       "  <thead>\n",
       "    <tr style=\"text-align: right;\">\n",
       "      <th></th>\n",
       "      <th>CrimeId</th>\n",
       "      <th>OriginalCrimeTypeName</th>\n",
       "      <th>OffenseDate</th>\n",
       "      <th>CallTime</th>\n",
       "      <th>CallDateTime</th>\n",
       "      <th>Disposition</th>\n",
       "      <th>Address</th>\n",
       "      <th>City</th>\n",
       "      <th>State</th>\n",
       "      <th>AgencyId</th>\n",
       "      <th>AddressType</th>\n",
       "    </tr>\n",
       "  </thead>\n",
       "  <tbody>\n",
       "    <tr>\n",
       "      <th>5771</th>\n",
       "      <td>160942112</td>\n",
       "      <td>Auto Boost / Strip</td>\n",
       "      <td>2016-04-03T00:00:00</td>\n",
       "      <td>14:30</td>\n",
       "      <td>2016-04-03T14:30:00</td>\n",
       "      <td>REP</td>\n",
       "      <td>Martin Luther King Dr/bowling Green Dr</td>\n",
       "      <td>NaN</td>\n",
       "      <td>NaN</td>\n",
       "      <td>CA</td>\n",
       "      <td>1</td>\n",
       "    </tr>\n",
       "    <tr>\n",
       "      <th>8021</th>\n",
       "      <td>160952280</td>\n",
       "      <td>Auto Boost / Strip</td>\n",
       "      <td>2016-04-04T00:00:00</td>\n",
       "      <td>14:46</td>\n",
       "      <td>2016-04-04T14:46:00</td>\n",
       "      <td>REP</td>\n",
       "      <td>Martin Luther King Dr/nancy Pelosi Dr</td>\n",
       "      <td>S</td>\n",
       "      <td>NaN</td>\n",
       "      <td>CA</td>\n",
       "      <td>1</td>\n",
       "    </tr>\n",
       "    <tr>\n",
       "      <th>8473</th>\n",
       "      <td>160953118</td>\n",
       "      <td>Auto Boost / Strip</td>\n",
       "      <td>2016-04-04T00:00:00</td>\n",
       "      <td>18:11</td>\n",
       "      <td>2016-04-04T18:11:00</td>\n",
       "      <td>REP</td>\n",
       "      <td>Conservatory Drive E/john F Kennedy Dr</td>\n",
       "      <td>NaN</td>\n",
       "      <td>NaN</td>\n",
       "      <td>CA</td>\n",
       "      <td>1</td>\n",
       "    </tr>\n",
       "  </tbody>\n",
       "</table>\n",
       "</div>"
      ],
      "text/plain": [
       "        CrimeId OriginalCrimeTypeName          OffenseDate CallTime  \\\n",
       "5771  160942112    Auto Boost / Strip  2016-04-03T00:00:00    14:30   \n",
       "8021  160952280    Auto Boost / Strip  2016-04-04T00:00:00    14:46   \n",
       "8473  160953118    Auto Boost / Strip  2016-04-04T00:00:00    18:11   \n",
       "\n",
       "             CallDateTime Disposition                                 Address  \\\n",
       "5771  2016-04-03T14:30:00         REP  Martin Luther King Dr/bowling Green Dr   \n",
       "8021  2016-04-04T14:46:00         REP   Martin Luther King Dr/nancy Pelosi Dr   \n",
       "8473  2016-04-04T18:11:00         REP  Conservatory Drive E/john F Kennedy Dr   \n",
       "\n",
       "     City State AgencyId AddressType  \n",
       "5771  NaN   NaN       CA           1  \n",
       "8021    S   NaN       CA           1  \n",
       "8473  NaN   NaN       CA           1  "
      ]
     },
     "execution_count": 13,
     "metadata": {},
     "output_type": "execute_result"
    }
   ],
   "source": [
    "\"\"\" observar muestras de las caracteristicas que poseen valores desconocidos\"\"\"\n",
    "df[(df['AgencyId']=='CA') & (df['AddressType']=='1') ]"
   ]
  },
  {
   "cell_type": "code",
   "execution_count": 14,
   "id": "3127dbab-55a4-48b4-9683-2d5747cc463a",
   "metadata": {},
   "outputs": [],
   "source": [
    "\"\"\"eliminar registros obtenidos con datos faltantes y valores no conocidos \"\"\"\n",
    "df.drop([5771, 8021, 8473], axis=0, inplace=True)"
   ]
  },
  {
   "cell_type": "markdown",
   "id": "41ee0a0d-b291-4d5f-8a34-e0f202a42c14",
   "metadata": {},
   "source": [
    "En este apartado se procede a eliminar ciertos valores de tipo NaN, así como también, valores que se desconocen o que no son muy comunes en determinadas características. Para el primer caso, se elimina la columna Range debido a que sus datos presentan valores Nan. Es decir, no existe otro valor adicional para hacer una referencia en el caso de aplicar un metodo de sustición. Por otro lado, se eliminan las muestras que poseen valores desconocidos o que se pueden considerar como atípicos puesto que son distintos a la mayoria de las muestras. Para este caso, las columnas 'AgencyId' y 'AddressType', poseen valores CA y 1 respectivamente, donde las muestras restantes poseen otros valores del mismo tipo en su mayoria. Por lo tanto, los filas que coinciden con los valores que se mencionaron en la ultima parte se eliminan, representando aproximadamente el 0.3%(0.29%) del total de las muestras. Es decir, ya no se cuentan con el 100% del total de las muestras si no con el 99.7% de las muestras que representaria a la cantidad de 1048 muestras totales,anteriormente de 1051."
   ]
  },
  {
   "cell_type": "code",
   "execution_count": 15,
   "id": "ffad94b3-80f0-475f-8ffa-da3908fd6954",
   "metadata": {},
   "outputs": [
    {
     "data": {
      "text/plain": [
       "(10048, 11)"
      ]
     },
     "execution_count": 15,
     "metadata": {},
     "output_type": "execute_result"
    }
   ],
   "source": [
    "\"\"\" verificar nueva dimension del dataset \"\"\"\n",
    "df.shape"
   ]
  },
  {
   "cell_type": "code",
   "execution_count": 16,
   "id": "b84c090d-40e9-47c1-998d-cf35c177a4de",
   "metadata": {},
   "outputs": [
    {
     "data": {
      "text/plain": [
       "CrimeId                    0\n",
       "OriginalCrimeTypeName      0\n",
       "OffenseDate                0\n",
       "CallTime                   0\n",
       "CallDateTime               0\n",
       "Disposition                0\n",
       "Address                    0\n",
       "City                     319\n",
       "State                      0\n",
       "AgencyId                   0\n",
       "AddressType                0\n",
       "dtype: int64"
      ]
     },
     "execution_count": 16,
     "metadata": {},
     "output_type": "execute_result"
    }
   ],
   "source": [
    "\"\"\" comprobar datos faltantes en el resto del conjunto de datos\"\"\"\n",
    "df.isnull().sum()"
   ]
  },
  {
   "cell_type": "markdown",
   "id": "5154e0e1-a6a8-48d9-9c39-c49a404761af",
   "metadata": {
    "tags": []
   },
   "source": [
    "### 1.4 Relleno de datos o imputacion de datos faltantes"
   ]
  },
  {
   "cell_type": "code",
   "execution_count": 17,
   "id": "8740b9ad-71d7-4dbc-ab59-2db7acfd75b6",
   "metadata": {},
   "outputs": [
    {
     "data": {
      "text/plain": [
       "array(['San Francisco', nan, 'Daly City', 'Treasure Isla', 'Yerba Buena',\n",
       "       'SAN FRANCISCO', 'Presidio', 'Brisbane'], dtype=object)"
      ]
     },
     "execution_count": 17,
     "metadata": {},
     "output_type": "execute_result"
    }
   ],
   "source": [
    "\"\"\" verificar nuevamentes los valores unicos de la columna City despues de la eliminacion de datos desconocidos\"\"\"\n",
    "df['City'].unique()"
   ]
  },
  {
   "cell_type": "markdown",
   "id": "8efada16-4b1e-4462-9ed6-79a93269b5c4",
   "metadata": {},
   "source": [
    "#### 1.4.1 Estandarizar etiquetas"
   ]
  },
  {
   "cell_type": "markdown",
   "id": "dcb8cffe-8ebe-46d7-8b9c-d4164132ddc0",
   "metadata": {},
   "source": [
    "* **Columna City**"
   ]
  },
  {
   "cell_type": "code",
   "execution_count": 18,
   "id": "fe34d0e1-2e50-4cf0-b9ca-9e718b3789e1",
   "metadata": {},
   "outputs": [
    {
     "data": {
      "text/html": [
       "<div>\n",
       "<style scoped>\n",
       "    .dataframe tbody tr th:only-of-type {\n",
       "        vertical-align: middle;\n",
       "    }\n",
       "\n",
       "    .dataframe tbody tr th {\n",
       "        vertical-align: top;\n",
       "    }\n",
       "\n",
       "    .dataframe thead th {\n",
       "        text-align: right;\n",
       "    }\n",
       "</style>\n",
       "<table border=\"1\" class=\"dataframe\">\n",
       "  <thead>\n",
       "    <tr style=\"text-align: right;\">\n",
       "      <th></th>\n",
       "      <th>CrimeId</th>\n",
       "      <th>OriginalCrimeTypeName</th>\n",
       "      <th>OffenseDate</th>\n",
       "      <th>CallTime</th>\n",
       "      <th>CallDateTime</th>\n",
       "      <th>Disposition</th>\n",
       "      <th>Address</th>\n",
       "      <th>City</th>\n",
       "      <th>State</th>\n",
       "      <th>AgencyId</th>\n",
       "      <th>AddressType</th>\n",
       "    </tr>\n",
       "  </thead>\n",
       "  <tbody>\n",
       "    <tr>\n",
       "      <th>3420</th>\n",
       "      <td>160931948</td>\n",
       "      <td>Pups</td>\n",
       "      <td>2016-04-02T00:00:00</td>\n",
       "      <td>14:04</td>\n",
       "      <td>2016-04-02T14:04:00</td>\n",
       "      <td>HAN</td>\n",
       "      <td>Van Ness Av/north Point St</td>\n",
       "      <td>SAN FRANCISCO</td>\n",
       "      <td>CA</td>\n",
       "      <td>1</td>\n",
       "      <td>Intersection</td>\n",
       "    </tr>\n",
       "  </tbody>\n",
       "</table>\n",
       "</div>"
      ],
      "text/plain": [
       "        CrimeId OriginalCrimeTypeName          OffenseDate CallTime  \\\n",
       "3420  160931948                  Pups  2016-04-02T00:00:00    14:04   \n",
       "\n",
       "             CallDateTime Disposition                     Address  \\\n",
       "3420  2016-04-02T14:04:00         HAN  Van Ness Av/north Point St   \n",
       "\n",
       "               City State AgencyId   AddressType  \n",
       "3420  SAN FRANCISCO    CA        1  Intersection  "
      ]
     },
     "execution_count": 18,
     "metadata": {},
     "output_type": "execute_result"
    }
   ],
   "source": [
    "\"\"\" mostrar fila que contiene la etiqueta SAN FRANCISO en la columna City\"\"\"\n",
    "df[(df['City']=='SAN FRANCISCO')]"
   ]
  },
  {
   "cell_type": "code",
   "execution_count": 19,
   "id": "9ae0c01d-547a-41f0-bdbb-cb6eb9f15d1e",
   "metadata": {},
   "outputs": [],
   "source": [
    "\"\"\" Cambiar a mayuscula la letra inicial de cada palabra en todas las etiquetas de la columna City\"\"\"\n",
    "df['City'] = df['City'].apply(lambda x: x if pd.isna(x) else string.capwords(x) )"
   ]
  },
  {
   "cell_type": "code",
   "execution_count": 22,
   "id": "30f499a9-9857-4eec-995d-abb4942c1a8e",
   "metadata": {},
   "outputs": [
    {
     "data": {
      "text/plain": [
       "array(['San Francisco', nan, 'Daly City', 'Treasure Isla', 'Yerba Buena',\n",
       "       'Presidio', 'Brisbane'], dtype=object)"
      ]
     },
     "execution_count": 22,
     "metadata": {},
     "output_type": "execute_result"
    }
   ],
   "source": [
    "\"\"\" verificar nuevamentes los valores unicos de la columna City \"\"\"\n",
    "df['City'].unique()"
   ]
  },
  {
   "cell_type": "markdown",
   "id": "9074f7c3-a5d2-4df4-bdca-9d6a2f8a3f3b",
   "metadata": {},
   "source": [
    "* **Columna Disposition**"
   ]
  },
  {
   "cell_type": "code",
   "execution_count": 23,
   "id": "db2958fb-ad9b-4529-b767-2d28ff93ba76",
   "metadata": {},
   "outputs": [
    {
     "data": {
      "text/html": [
       "<div>\n",
       "<style scoped>\n",
       "    .dataframe tbody tr th:only-of-type {\n",
       "        vertical-align: middle;\n",
       "    }\n",
       "\n",
       "    .dataframe tbody tr th {\n",
       "        vertical-align: top;\n",
       "    }\n",
       "\n",
       "    .dataframe thead th {\n",
       "        text-align: right;\n",
       "    }\n",
       "</style>\n",
       "<table border=\"1\" class=\"dataframe\">\n",
       "  <thead>\n",
       "    <tr style=\"text-align: right;\">\n",
       "      <th></th>\n",
       "      <th>AddressType</th>\n",
       "      <th>Cantidad</th>\n",
       "    </tr>\n",
       "  </thead>\n",
       "  <tbody>\n",
       "    <tr>\n",
       "      <th>0</th>\n",
       "      <td>Common Location</td>\n",
       "      <td>818</td>\n",
       "    </tr>\n",
       "    <tr>\n",
       "      <th>1</th>\n",
       "      <td>Geo-Override</td>\n",
       "      <td>469</td>\n",
       "    </tr>\n",
       "    <tr>\n",
       "      <th>2</th>\n",
       "      <td>Intersection</td>\n",
       "      <td>3701</td>\n",
       "    </tr>\n",
       "    <tr>\n",
       "      <th>3</th>\n",
       "      <td>Intersectioon</td>\n",
       "      <td>1</td>\n",
       "    </tr>\n",
       "    <tr>\n",
       "      <th>4</th>\n",
       "      <td>Premise Address</td>\n",
       "      <td>5059</td>\n",
       "    </tr>\n",
       "  </tbody>\n",
       "</table>\n",
       "</div>"
      ],
      "text/plain": [
       "       AddressType  Cantidad\n",
       "0  Common Location       818\n",
       "1     Geo-Override       469\n",
       "2     Intersection      3701\n",
       "3    Intersectioon         1\n",
       "4  Premise Address      5059"
      ]
     },
     "metadata": {},
     "output_type": "display_data"
    }
   ],
   "source": [
    "\"\"\" mostrar etiquetas para estandarizar (Intersectioon->Intersection)\"\"\"\n",
    "valores_unicos_etiquetas(['AddressType'])"
   ]
  },
  {
   "cell_type": "code",
   "execution_count": 24,
   "id": "fad8eeb9-c8a5-4418-afb6-c1ed0f6914b1",
   "metadata": {},
   "outputs": [],
   "source": [
    "\"\"\" reemplazar etiqueta Intersectioon por Intersection \"\"\"\n",
    "df['AddressType']= df['AddressType'].apply(lambda x: x if not 'Intersectioon' else x.replace('Intersectioon','Intersection') )"
   ]
  },
  {
   "cell_type": "code",
   "execution_count": 25,
   "id": "cd28870c-28b1-41d5-a159-06b88c4e3164",
   "metadata": {},
   "outputs": [
    {
     "data": {
      "text/html": [
       "<div>\n",
       "<style scoped>\n",
       "    .dataframe tbody tr th:only-of-type {\n",
       "        vertical-align: middle;\n",
       "    }\n",
       "\n",
       "    .dataframe tbody tr th {\n",
       "        vertical-align: top;\n",
       "    }\n",
       "\n",
       "    .dataframe thead th {\n",
       "        text-align: right;\n",
       "    }\n",
       "</style>\n",
       "<table border=\"1\" class=\"dataframe\">\n",
       "  <thead>\n",
       "    <tr style=\"text-align: right;\">\n",
       "      <th></th>\n",
       "      <th>AddressType</th>\n",
       "      <th>Cantidad</th>\n",
       "    </tr>\n",
       "  </thead>\n",
       "  <tbody>\n",
       "    <tr>\n",
       "      <th>0</th>\n",
       "      <td>Common Location</td>\n",
       "      <td>818</td>\n",
       "    </tr>\n",
       "    <tr>\n",
       "      <th>1</th>\n",
       "      <td>Geo-Override</td>\n",
       "      <td>469</td>\n",
       "    </tr>\n",
       "    <tr>\n",
       "      <th>2</th>\n",
       "      <td>Intersection</td>\n",
       "      <td>3702</td>\n",
       "    </tr>\n",
       "    <tr>\n",
       "      <th>3</th>\n",
       "      <td>Premise Address</td>\n",
       "      <td>5059</td>\n",
       "    </tr>\n",
       "  </tbody>\n",
       "</table>\n",
       "</div>"
      ],
      "text/plain": [
       "       AddressType  Cantidad\n",
       "0  Common Location       818\n",
       "1     Geo-Override       469\n",
       "2     Intersection      3702\n",
       "3  Premise Address      5059"
      ]
     },
     "metadata": {},
     "output_type": "display_data"
    }
   ],
   "source": [
    "\"\"\" comprobar etiquetas cambiadas(Intersectioon->Intersection)\"\"\"\n",
    "valores_unicos_etiquetas(['AddressType'])"
   ]
  },
  {
   "cell_type": "markdown",
   "id": "2ed514eb-0437-4687-af7f-382c0c357e89",
   "metadata": {},
   "source": [
    "#### 1.4.2 Imputacion de datos con la moda"
   ]
  },
  {
   "cell_type": "markdown",
   "id": "dd58e1d4-8dfb-40be-97b0-e65297c5876f",
   "metadata": {},
   "source": [
    "* **Columna City**"
   ]
  },
  {
   "cell_type": "code",
   "execution_count": 26,
   "id": "afeeae80-f399-4d73-b5a3-a89ec0f461a3",
   "metadata": {},
   "outputs": [],
   "source": [
    "\"\"\" crear instancia de imputacion para reemplazar datos Nan por la moda \"\"\"\n",
    "impu_moda = SimpleImputer(strategy='most_frequent', missing_values=np.nan)\n",
    "\"\"\" definir columna a imputar \"\"\"\n",
    "impu_moda= impu_moda.fit(df[['City']])\n",
    "\"\"\" transformar datos aprendidos para la imputacion de datos faltantes \"\"\"\n",
    "df['City'] = impu_moda.transform(df[['City']])"
   ]
  },
  {
   "cell_type": "code",
   "execution_count": 27,
   "id": "507d7324-e1d0-45f9-8a39-5ac6a87fe8a4",
   "metadata": {},
   "outputs": [
    {
     "data": {
      "text/html": [
       "<div>\n",
       "<style scoped>\n",
       "    .dataframe tbody tr th:only-of-type {\n",
       "        vertical-align: middle;\n",
       "    }\n",
       "\n",
       "    .dataframe tbody tr th {\n",
       "        vertical-align: top;\n",
       "    }\n",
       "\n",
       "    .dataframe thead th {\n",
       "        text-align: right;\n",
       "    }\n",
       "</style>\n",
       "<table border=\"1\" class=\"dataframe\">\n",
       "  <thead>\n",
       "    <tr style=\"text-align: right;\">\n",
       "      <th></th>\n",
       "      <th>City</th>\n",
       "      <th>Cantidad</th>\n",
       "    </tr>\n",
       "  </thead>\n",
       "  <tbody>\n",
       "    <tr>\n",
       "      <th>0</th>\n",
       "      <td>Brisbane</td>\n",
       "      <td>1</td>\n",
       "    </tr>\n",
       "    <tr>\n",
       "      <th>1</th>\n",
       "      <td>Daly City</td>\n",
       "      <td>5</td>\n",
       "    </tr>\n",
       "    <tr>\n",
       "      <th>2</th>\n",
       "      <td>Presidio</td>\n",
       "      <td>3</td>\n",
       "    </tr>\n",
       "    <tr>\n",
       "      <th>3</th>\n",
       "      <td>San Francisco</td>\n",
       "      <td>9985</td>\n",
       "    </tr>\n",
       "    <tr>\n",
       "      <th>4</th>\n",
       "      <td>Treasure Isla</td>\n",
       "      <td>51</td>\n",
       "    </tr>\n",
       "    <tr>\n",
       "      <th>5</th>\n",
       "      <td>Yerba Buena</td>\n",
       "      <td>3</td>\n",
       "    </tr>\n",
       "  </tbody>\n",
       "</table>\n",
       "</div>"
      ],
      "text/plain": [
       "            City  Cantidad\n",
       "0       Brisbane         1\n",
       "1      Daly City         5\n",
       "2       Presidio         3\n",
       "3  San Francisco      9985\n",
       "4  Treasure Isla        51\n",
       "5    Yerba Buena         3"
      ]
     },
     "metadata": {},
     "output_type": "display_data"
    }
   ],
   "source": [
    "\"\"\" verificar etiquetas despues de aplicar la imputacion de datos en la columna City \"\"\"\n",
    "valores_unicos_etiquetas(['City'])"
   ]
  },
  {
   "cell_type": "markdown",
   "id": "c217fea4-5eae-48f2-90f6-d53f1acb1693",
   "metadata": {},
   "source": [
    "* **Columna Disposition**"
   ]
  },
  {
   "cell_type": "code",
   "execution_count": 27,
   "id": "f6867a3c-0d0f-4828-bd68-cbc8124af5a2",
   "metadata": {},
   "outputs": [
    {
     "data": {
      "text/html": [
       "<div>\n",
       "<style scoped>\n",
       "    .dataframe tbody tr th:only-of-type {\n",
       "        vertical-align: middle;\n",
       "    }\n",
       "\n",
       "    .dataframe tbody tr th {\n",
       "        vertical-align: top;\n",
       "    }\n",
       "\n",
       "    .dataframe thead th {\n",
       "        text-align: right;\n",
       "    }\n",
       "</style>\n",
       "<table border=\"1\" class=\"dataframe\">\n",
       "  <thead>\n",
       "    <tr style=\"text-align: right;\">\n",
       "      <th></th>\n",
       "      <th>Disposition</th>\n",
       "      <th>Cantidad</th>\n",
       "    </tr>\n",
       "  </thead>\n",
       "  <tbody>\n",
       "    <tr>\n",
       "      <th>0</th>\n",
       "      <td>22</td>\n",
       "      <td>77</td>\n",
       "    </tr>\n",
       "    <tr>\n",
       "      <th>1</th>\n",
       "      <td>ABA</td>\n",
       "      <td>97</td>\n",
       "    </tr>\n",
       "    <tr>\n",
       "      <th>2</th>\n",
       "      <td>ADM</td>\n",
       "      <td>48</td>\n",
       "    </tr>\n",
       "    <tr>\n",
       "      <th>3</th>\n",
       "      <td>ADV</td>\n",
       "      <td>1142</td>\n",
       "    </tr>\n",
       "    <tr>\n",
       "      <th>4</th>\n",
       "      <td>ARR</td>\n",
       "      <td>65</td>\n",
       "    </tr>\n",
       "    <tr>\n",
       "      <th>5</th>\n",
       "      <td>CAN</td>\n",
       "      <td>353</td>\n",
       "    </tr>\n",
       "    <tr>\n",
       "      <th>6</th>\n",
       "      <td>CIT</td>\n",
       "      <td>1425</td>\n",
       "    </tr>\n",
       "    <tr>\n",
       "      <th>7</th>\n",
       "      <td>CRT</td>\n",
       "      <td>2</td>\n",
       "    </tr>\n",
       "    <tr>\n",
       "      <th>8</th>\n",
       "      <td>GOA</td>\n",
       "      <td>1273</td>\n",
       "    </tr>\n",
       "    <tr>\n",
       "      <th>9</th>\n",
       "      <td>HAN</td>\n",
       "      <td>2820</td>\n",
       "    </tr>\n",
       "    <tr>\n",
       "      <th>10</th>\n",
       "      <td>INC</td>\n",
       "      <td>17</td>\n",
       "    </tr>\n",
       "    <tr>\n",
       "      <th>11</th>\n",
       "      <td>NCR</td>\n",
       "      <td>82</td>\n",
       "    </tr>\n",
       "    <tr>\n",
       "      <th>12</th>\n",
       "      <td>ND</td>\n",
       "      <td>427</td>\n",
       "    </tr>\n",
       "    <tr>\n",
       "      <th>13</th>\n",
       "      <td>NOM</td>\n",
       "      <td>324</td>\n",
       "    </tr>\n",
       "    <tr>\n",
       "      <th>14</th>\n",
       "      <td>Not recorded</td>\n",
       "      <td>543</td>\n",
       "    </tr>\n",
       "    <tr>\n",
       "      <th>15</th>\n",
       "      <td>PAS</td>\n",
       "      <td>170</td>\n",
       "    </tr>\n",
       "    <tr>\n",
       "      <th>16</th>\n",
       "      <td>REP</td>\n",
       "      <td>797</td>\n",
       "    </tr>\n",
       "    <tr>\n",
       "      <th>17</th>\n",
       "      <td>SFD</td>\n",
       "      <td>1</td>\n",
       "    </tr>\n",
       "    <tr>\n",
       "      <th>18</th>\n",
       "      <td>UTL</td>\n",
       "      <td>385</td>\n",
       "    </tr>\n",
       "  </tbody>\n",
       "</table>\n",
       "</div>"
      ],
      "text/plain": [
       "     Disposition  Cantidad\n",
       "0             22        77\n",
       "1            ABA        97\n",
       "2            ADM        48\n",
       "3            ADV      1142\n",
       "4            ARR        65\n",
       "5            CAN       353\n",
       "6            CIT      1425\n",
       "7            CRT         2\n",
       "8            GOA      1273\n",
       "9            HAN      2820\n",
       "10           INC        17\n",
       "11           NCR        82\n",
       "12            ND       427\n",
       "13           NOM       324\n",
       "14  Not recorded       543\n",
       "15           PAS       170\n",
       "16           REP       797\n",
       "17           SFD         1\n",
       "18           UTL       385"
      ]
     },
     "metadata": {},
     "output_type": "display_data"
    }
   ],
   "source": [
    "\"\"\" verificar etiquetas para aplicar imputacion de datos en la etiqueta '22' puesto que es un valor atipico \"\"\"\n",
    "valores_unicos_etiquetas(['Disposition'])"
   ]
  },
  {
   "cell_type": "code",
   "execution_count": 30,
   "id": "d769cf72-b453-4546-8655-9e1f812beeef",
   "metadata": {},
   "outputs": [],
   "source": [
    "\"\"\" cambiar el valor de la etiqueta 22 a dato NaN para hacer la imputacion por KNN \"\"\"\n",
    "df.loc[df.Disposition=='22','Disposition']= np.nan"
   ]
  },
  {
   "cell_type": "code",
   "execution_count": 32,
   "id": "10f3d41d-f654-4ce0-8909-cfd6b8fdb635",
   "metadata": {},
   "outputs": [
    {
     "data": {
      "text/plain": [
       "77"
      ]
     },
     "execution_count": 32,
     "metadata": {},
     "output_type": "execute_result"
    }
   ],
   "source": [
    "\"\"\" comprobar la existencia de los datos faltantes que fueron reemplazados por la etiqueta 22\"\"\"\n",
    "df['Disposition'].isnull().sum()"
   ]
  },
  {
   "cell_type": "code",
   "execution_count": 34,
   "id": "69315112-38a5-4f66-bf7d-548cbc0b194c",
   "metadata": {},
   "outputs": [],
   "source": [
    "\"\"\" definir columna para aprender datos e imputar por moda \"\"\"\n",
    "impu_moda_disposition= impu_moda.fit(df[['Disposition']])\n",
    "\"\"\" transformar datos aprendidos para la imputacion de datos faltantes \"\"\"\n",
    "df['Disposition'] = impu_moda_disposition.transform(df[['Disposition']])"
   ]
  },
  {
   "cell_type": "code",
   "execution_count": 37,
   "id": "09c1be0b-4ec7-4c4e-a23b-c806f1535d4a",
   "metadata": {},
   "outputs": [
    {
     "data": {
      "text/plain": [
       "0"
      ]
     },
     "execution_count": 37,
     "metadata": {},
     "output_type": "execute_result"
    }
   ],
   "source": [
    "\"\"\" comprobar nuevamente si hay existencia de datos faltantes luego de la imputacion por moda\"\"\"\n",
    "df['Disposition'].isnull().sum()"
   ]
  },
  {
   "cell_type": "code",
   "execution_count": 36,
   "id": "c0a4dcee-4f3e-42f5-aaf9-724ef772be2c",
   "metadata": {},
   "outputs": [
    {
     "data": {
      "text/plain": [
       "CrimeId                  0\n",
       "OriginalCrimeTypeName    0\n",
       "OffenseDate              0\n",
       "CallTime                 0\n",
       "CallDateTime             0\n",
       "Disposition              0\n",
       "Address                  0\n",
       "City                     0\n",
       "State                    0\n",
       "AgencyId                 0\n",
       "AddressType              0\n",
       "dtype: int64"
      ]
     },
     "execution_count": 36,
     "metadata": {},
     "output_type": "execute_result"
    }
   ],
   "source": [
    "\"\"\" comprobar datos faltantes en el resto del conjunto de datos\"\"\"\n",
    "df.isnull().sum()"
   ]
  }
 ],
 "metadata": {
  "kernelspec": {
   "display_name": "Python 3 (ipykernel)",
   "language": "python",
   "name": "python3"
  },
  "language_info": {
   "codemirror_mode": {
    "name": "ipython",
    "version": 3
   },
   "file_extension": ".py",
   "mimetype": "text/x-python",
   "name": "python",
   "nbconvert_exporter": "python",
   "pygments_lexer": "ipython3",
   "version": "3.9.7"
  }
 },
 "nbformat": 4,
 "nbformat_minor": 5
}
